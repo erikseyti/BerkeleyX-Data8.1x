{
 "cells": [
  {
   "cell_type": "code",
   "execution_count": 2,
   "metadata": {},
   "outputs": [],
   "source": [
    "from datascience import *\n",
    "import numpy as np\n",
    "%matplotlib inline\n",
    "import matplotlib.pyplot as plots\n",
    "plots.style.use('fivethirtyeight')"
   ]
  },
  {
   "cell_type": "code",
   "execution_count": 4,
   "metadata": {},
   "outputs": [
    {
     "data": {
      "text/html": [
       "<table border=\"1\" class=\"dataframe\">\n",
       "    <thead>\n",
       "        <tr>\n",
       "            <th>Title</th> <th>Studio</th> <th>Gross</th> <th>Gross (Adjusted)</th> <th>Year</th>\n",
       "        </tr>\n",
       "    </thead>\n",
       "    <tbody>\n",
       "        <tr>\n",
       "            <td>Gone with the Wind              </td> <td>MGM            </td> <td>198676459</td> <td>1796176700      </td> <td>1939</td>\n",
       "        </tr>\n",
       "        <tr>\n",
       "            <td>Star Wars                       </td> <td>Fox            </td> <td>460998007</td> <td>1583483200      </td> <td>1977</td>\n",
       "        </tr>\n",
       "        <tr>\n",
       "            <td>The Sound of Music              </td> <td>Fox            </td> <td>158671368</td> <td>1266072700      </td> <td>1965</td>\n",
       "        </tr>\n",
       "        <tr>\n",
       "            <td>E.T.: The Extra-Terrestrial     </td> <td>Universal      </td> <td>435110554</td> <td>1261085000      </td> <td>1982</td>\n",
       "        </tr>\n",
       "        <tr>\n",
       "            <td>Titanic                         </td> <td>Paramount      </td> <td>658672302</td> <td>1204368000      </td> <td>1997</td>\n",
       "        </tr>\n",
       "        <tr>\n",
       "            <td>The Ten Commandments            </td> <td>Paramount      </td> <td>65500000 </td> <td>1164590000      </td> <td>1956</td>\n",
       "        </tr>\n",
       "        <tr>\n",
       "            <td>Jaws                            </td> <td>Universal      </td> <td>260000000</td> <td>1138620700      </td> <td>1975</td>\n",
       "        </tr>\n",
       "        <tr>\n",
       "            <td>Doctor Zhivago                  </td> <td>MGM            </td> <td>111721910</td> <td>1103564200      </td> <td>1965</td>\n",
       "        </tr>\n",
       "        <tr>\n",
       "            <td>The Exorcist                    </td> <td>Warner Brothers</td> <td>232906145</td> <td>983226600       </td> <td>1973</td>\n",
       "        </tr>\n",
       "        <tr>\n",
       "            <td>Snow White and the Seven Dwarves</td> <td>Disney         </td> <td>184925486</td> <td>969010000       </td> <td>1937</td>\n",
       "        </tr>\n",
       "    </tbody>\n",
       "</table>\n",
       "<p>... (190 rows omitted)</p>"
      ],
      "text/plain": [
       "Title                            | Studio          | Gross     | Gross (Adjusted) | Year\n",
       "Gone with the Wind               | MGM             | 198676459 | 1796176700       | 1939\n",
       "Star Wars                        | Fox             | 460998007 | 1583483200       | 1977\n",
       "The Sound of Music               | Fox             | 158671368 | 1266072700       | 1965\n",
       "E.T.: The Extra-Terrestrial      | Universal       | 435110554 | 1261085000       | 1982\n",
       "Titanic                          | Paramount       | 658672302 | 1204368000       | 1997\n",
       "The Ten Commandments             | Paramount       | 65500000  | 1164590000       | 1956\n",
       "Jaws                             | Universal       | 260000000 | 1138620700       | 1975\n",
       "Doctor Zhivago                   | MGM             | 111721910 | 1103564200       | 1965\n",
       "The Exorcist                     | Warner Brothers | 232906145 | 983226600        | 1973\n",
       "Snow White and the Seven Dwarves | Disney          | 184925486 | 969010000        | 1937\n",
       "... (190 rows omitted)"
      ]
     },
     "execution_count": 4,
     "metadata": {},
     "output_type": "execute_result"
    }
   ],
   "source": [
    "movies = Table.read_table('top_movies_2017.csv')\n",
    "movies"
   ]
  },
  {
   "cell_type": "code",
   "execution_count": 5,
   "metadata": {},
   "outputs": [
    {
     "data": {
      "text/html": [
       "<table border=\"1\" class=\"dataframe\">\n",
       "    <thead>\n",
       "        <tr>\n",
       "            <th>Title</th> <th>Studio</th> <th>Gross</th> <th>Gross (Adjusted)</th> <th>Year</th>\n",
       "        </tr>\n",
       "    </thead>\n",
       "    <tbody>\n",
       "        <tr>\n",
       "            <td>Star Wars: The Force Awakens             </td> <td>Buena Vista    </td> <td>936662225</td> <td>961143200       </td> <td>2015</td>\n",
       "        </tr>\n",
       "        <tr>\n",
       "            <td>Avatar                                   </td> <td>Fox            </td> <td>760507625</td> <td>865082100       </td> <td>2009</td>\n",
       "        </tr>\n",
       "        <tr>\n",
       "            <td>Titanic                                  </td> <td>Paramount      </td> <td>658672302</td> <td>1204368000      </td> <td>1997</td>\n",
       "        </tr>\n",
       "        <tr>\n",
       "            <td>Jurassic World                           </td> <td>Universal      </td> <td>652270625</td> <td>702747400       </td> <td>2015</td>\n",
       "        </tr>\n",
       "        <tr>\n",
       "            <td>Marvel's The Avengers                    </td> <td>Buena Vista    </td> <td>623357910</td> <td>683474000       </td> <td>2012</td>\n",
       "        </tr>\n",
       "        <tr>\n",
       "            <td>The Dark Knight                          </td> <td>Warner Brothers</td> <td>534858444</td> <td>661980500       </td> <td>2008</td>\n",
       "        </tr>\n",
       "        <tr>\n",
       "            <td>Rogue One: A Star Wars Story             </td> <td>Buena Vista    </td> <td>532177324</td> <td>537326000       </td> <td>2016</td>\n",
       "        </tr>\n",
       "        <tr>\n",
       "            <td>Beauty and the Beast (2017)              </td> <td>Buena Vista    </td> <td>504014165</td> <td>504014165       </td> <td>2017</td>\n",
       "        </tr>\n",
       "        <tr>\n",
       "            <td>Finding Dory                             </td> <td>Buena Vista    </td> <td>486295561</td> <td>499245400       </td> <td>2016</td>\n",
       "        </tr>\n",
       "        <tr>\n",
       "            <td>Star Wars: Episode I - The Phantom Menace</td> <td>Fox            </td> <td>474544677</td> <td>802874300       </td> <td>1999</td>\n",
       "        </tr>\n",
       "    </tbody>\n",
       "</table>\n",
       "<p>... (190 rows omitted)</p>"
      ],
      "text/plain": [
       "Title                                     | Studio          | Gross     | Gross (Adjusted) | Year\n",
       "Star Wars: The Force Awakens              | Buena Vista     | 936662225 | 961143200        | 2015\n",
       "Avatar                                    | Fox             | 760507625 | 865082100        | 2009\n",
       "Titanic                                   | Paramount       | 658672302 | 1204368000       | 1997\n",
       "Jurassic World                            | Universal       | 652270625 | 702747400        | 2015\n",
       "Marvel's The Avengers                     | Buena Vista     | 623357910 | 683474000        | 2012\n",
       "The Dark Knight                           | Warner Brothers | 534858444 | 661980500        | 2008\n",
       "Rogue One: A Star Wars Story              | Buena Vista     | 532177324 | 537326000        | 2016\n",
       "Beauty and the Beast (2017)               | Buena Vista     | 504014165 | 504014165        | 2017\n",
       "Finding Dory                              | Buena Vista     | 486295561 | 499245400        | 2016\n",
       "Star Wars: Episode I - The Phantom Menace | Fox             | 474544677 | 802874300        | 1999\n",
       "... (190 rows omitted)"
      ]
     },
     "execution_count": 5,
     "metadata": {},
     "output_type": "execute_result"
    }
   ],
   "source": [
    "movies.sort('Gross',descending=True)"
   ]
  },
  {
   "cell_type": "code",
   "execution_count": 6,
   "metadata": {},
   "outputs": [
    {
     "data": {
      "text/html": [
       "<table border=\"1\" class=\"dataframe\">\n",
       "    <thead>\n",
       "        <tr>\n",
       "            <th>Title</th> <th>Studio</th> <th>Gross</th> <th>Gross (Adjusted)</th> <th>Year</th>\n",
       "        </tr>\n",
       "    </thead>\n",
       "    <tbody>\n",
       "        <tr>\n",
       "            <td>Gone with the Wind              </td> <td>MGM            </td> <td>198,676,459</td> <td>1796176700      </td> <td>1939</td>\n",
       "        </tr>\n",
       "        <tr>\n",
       "            <td>Star Wars                       </td> <td>Fox            </td> <td>460,998,007</td> <td>1583483200      </td> <td>1977</td>\n",
       "        </tr>\n",
       "        <tr>\n",
       "            <td>The Sound of Music              </td> <td>Fox            </td> <td>158,671,368</td> <td>1266072700      </td> <td>1965</td>\n",
       "        </tr>\n",
       "        <tr>\n",
       "            <td>E.T.: The Extra-Terrestrial     </td> <td>Universal      </td> <td>435,110,554</td> <td>1261085000      </td> <td>1982</td>\n",
       "        </tr>\n",
       "        <tr>\n",
       "            <td>Titanic                         </td> <td>Paramount      </td> <td>658,672,302</td> <td>1204368000      </td> <td>1997</td>\n",
       "        </tr>\n",
       "        <tr>\n",
       "            <td>The Ten Commandments            </td> <td>Paramount      </td> <td>65,500,000 </td> <td>1164590000      </td> <td>1956</td>\n",
       "        </tr>\n",
       "        <tr>\n",
       "            <td>Jaws                            </td> <td>Universal      </td> <td>260,000,000</td> <td>1138620700      </td> <td>1975</td>\n",
       "        </tr>\n",
       "        <tr>\n",
       "            <td>Doctor Zhivago                  </td> <td>MGM            </td> <td>111,721,910</td> <td>1103564200      </td> <td>1965</td>\n",
       "        </tr>\n",
       "        <tr>\n",
       "            <td>The Exorcist                    </td> <td>Warner Brothers</td> <td>232,906,145</td> <td>983226600       </td> <td>1973</td>\n",
       "        </tr>\n",
       "        <tr>\n",
       "            <td>Snow White and the Seven Dwarves</td> <td>Disney         </td> <td>184,925,486</td> <td>969010000       </td> <td>1937</td>\n",
       "        </tr>\n",
       "    </tbody>\n",
       "</table>\n",
       "<p>... (190 rows omitted)</p>"
      ],
      "text/plain": [
       "Title                            | Studio          | Gross       | Gross (Adjusted) | Year\n",
       "Gone with the Wind               | MGM             | 198,676,459 | 1796176700       | 1939\n",
       "Star Wars                        | Fox             | 460,998,007 | 1583483200       | 1977\n",
       "The Sound of Music               | Fox             | 158,671,368 | 1266072700       | 1965\n",
       "E.T.: The Extra-Terrestrial      | Universal       | 435,110,554 | 1261085000       | 1982\n",
       "Titanic                          | Paramount       | 658,672,302 | 1204368000       | 1997\n",
       "The Ten Commandments             | Paramount       | 65,500,000  | 1164590000       | 1956\n",
       "Jaws                             | Universal       | 260,000,000 | 1138620700       | 1975\n",
       "Doctor Zhivago                   | MGM             | 111,721,910 | 1103564200       | 1965\n",
       "The Exorcist                     | Warner Brothers | 232,906,145 | 983226600        | 1973\n",
       "Snow White and the Seven Dwarves | Disney          | 184,925,486 | 969010000        | 1937\n",
       "... (190 rows omitted)"
      ]
     },
     "execution_count": 6,
     "metadata": {},
     "output_type": "execute_result"
    }
   ],
   "source": [
    "movies.set_format('Gross', NumberFormatter)"
   ]
  },
  {
   "cell_type": "code",
   "execution_count": 7,
   "metadata": {},
   "outputs": [
    {
     "data": {
      "text/html": [
       "<table border=\"1\" class=\"dataframe\">\n",
       "    <thead>\n",
       "        <tr>\n",
       "            <th>Title</th> <th>Studio</th> <th>Gross</th> <th>Gross (Adjusted)</th> <th>Year</th>\n",
       "        </tr>\n",
       "    </thead>\n",
       "    <tbody>\n",
       "        <tr>\n",
       "            <td>Gone with the Wind              </td> <td>MGM            </td> <td>198,676,459</td> <td>1,796,176,700   </td> <td>1939</td>\n",
       "        </tr>\n",
       "        <tr>\n",
       "            <td>Star Wars                       </td> <td>Fox            </td> <td>460,998,007</td> <td>1,583,483,200   </td> <td>1977</td>\n",
       "        </tr>\n",
       "        <tr>\n",
       "            <td>The Sound of Music              </td> <td>Fox            </td> <td>158,671,368</td> <td>1,266,072,700   </td> <td>1965</td>\n",
       "        </tr>\n",
       "        <tr>\n",
       "            <td>E.T.: The Extra-Terrestrial     </td> <td>Universal      </td> <td>435,110,554</td> <td>1,261,085,000   </td> <td>1982</td>\n",
       "        </tr>\n",
       "        <tr>\n",
       "            <td>Titanic                         </td> <td>Paramount      </td> <td>658,672,302</td> <td>1,204,368,000   </td> <td>1997</td>\n",
       "        </tr>\n",
       "        <tr>\n",
       "            <td>The Ten Commandments            </td> <td>Paramount      </td> <td>65,500,000 </td> <td>1,164,590,000   </td> <td>1956</td>\n",
       "        </tr>\n",
       "        <tr>\n",
       "            <td>Jaws                            </td> <td>Universal      </td> <td>260,000,000</td> <td>1,138,620,700   </td> <td>1975</td>\n",
       "        </tr>\n",
       "        <tr>\n",
       "            <td>Doctor Zhivago                  </td> <td>MGM            </td> <td>111,721,910</td> <td>1,103,564,200   </td> <td>1965</td>\n",
       "        </tr>\n",
       "        <tr>\n",
       "            <td>The Exorcist                    </td> <td>Warner Brothers</td> <td>232,906,145</td> <td>983,226,600     </td> <td>1973</td>\n",
       "        </tr>\n",
       "        <tr>\n",
       "            <td>Snow White and the Seven Dwarves</td> <td>Disney         </td> <td>184,925,486</td> <td>969,010,000     </td> <td>1937</td>\n",
       "        </tr>\n",
       "    </tbody>\n",
       "</table>\n",
       "<p>... (190 rows omitted)</p>"
      ],
      "text/plain": [
       "Title                            | Studio          | Gross       | Gross (Adjusted) | Year\n",
       "Gone with the Wind               | MGM             | 198,676,459 | 1,796,176,700    | 1939\n",
       "Star Wars                        | Fox             | 460,998,007 | 1,583,483,200    | 1977\n",
       "The Sound of Music               | Fox             | 158,671,368 | 1,266,072,700    | 1965\n",
       "E.T.: The Extra-Terrestrial      | Universal       | 435,110,554 | 1,261,085,000    | 1982\n",
       "Titanic                          | Paramount       | 658,672,302 | 1,204,368,000    | 1997\n",
       "The Ten Commandments             | Paramount       | 65,500,000  | 1,164,590,000    | 1956\n",
       "Jaws                             | Universal       | 260,000,000 | 1,138,620,700    | 1975\n",
       "Doctor Zhivago                   | MGM             | 111,721,910 | 1,103,564,200    | 1965\n",
       "The Exorcist                     | Warner Brothers | 232,906,145 | 983,226,600      | 1973\n",
       "Snow White and the Seven Dwarves | Disney          | 184,925,486 | 969,010,000      | 1937\n",
       "... (190 rows omitted)"
      ]
     },
     "execution_count": 7,
     "metadata": {},
     "output_type": "execute_result"
    }
   ],
   "source": [
    "movies.set_format(3, NumberFormatter)"
   ]
  },
  {
   "cell_type": "code",
   "execution_count": 8,
   "metadata": {},
   "outputs": [
    {
     "data": {
      "text/html": [
       "<table border=\"1\" class=\"dataframe\">\n",
       "    <thead>\n",
       "        <tr>\n",
       "            <th>Title</th> <th>Studio</th> <th>Gross</th> <th>Gross (Adjusted)</th> <th>Year</th>\n",
       "        </tr>\n",
       "    </thead>\n",
       "    <tbody>\n",
       "        <tr>\n",
       "            <td>Star Wars: The Force Awakens             </td> <td>Buena Vista    </td> <td>936,662,225</td> <td>961,143,200     </td> <td>2015</td>\n",
       "        </tr>\n",
       "        <tr>\n",
       "            <td>Avatar                                   </td> <td>Fox            </td> <td>760,507,625</td> <td>865,082,100     </td> <td>2009</td>\n",
       "        </tr>\n",
       "        <tr>\n",
       "            <td>Titanic                                  </td> <td>Paramount      </td> <td>658,672,302</td> <td>1,204,368,000   </td> <td>1997</td>\n",
       "        </tr>\n",
       "        <tr>\n",
       "            <td>Jurassic World                           </td> <td>Universal      </td> <td>652,270,625</td> <td>702,747,400     </td> <td>2015</td>\n",
       "        </tr>\n",
       "        <tr>\n",
       "            <td>Marvel's The Avengers                    </td> <td>Buena Vista    </td> <td>623,357,910</td> <td>683,474,000     </td> <td>2012</td>\n",
       "        </tr>\n",
       "        <tr>\n",
       "            <td>The Dark Knight                          </td> <td>Warner Brothers</td> <td>534,858,444</td> <td>661,980,500     </td> <td>2008</td>\n",
       "        </tr>\n",
       "        <tr>\n",
       "            <td>Rogue One: A Star Wars Story             </td> <td>Buena Vista    </td> <td>532,177,324</td> <td>537,326,000     </td> <td>2016</td>\n",
       "        </tr>\n",
       "        <tr>\n",
       "            <td>Beauty and the Beast (2017)              </td> <td>Buena Vista    </td> <td>504,014,165</td> <td>504,014,165     </td> <td>2017</td>\n",
       "        </tr>\n",
       "        <tr>\n",
       "            <td>Finding Dory                             </td> <td>Buena Vista    </td> <td>486,295,561</td> <td>499,245,400     </td> <td>2016</td>\n",
       "        </tr>\n",
       "        <tr>\n",
       "            <td>Star Wars: Episode I - The Phantom Menace</td> <td>Fox            </td> <td>474,544,677</td> <td>802,874,300     </td> <td>1999</td>\n",
       "        </tr>\n",
       "    </tbody>\n",
       "</table>\n",
       "<p>... (190 rows omitted)</p>"
      ],
      "text/plain": [
       "Title                                     | Studio          | Gross       | Gross (Adjusted) | Year\n",
       "Star Wars: The Force Awakens              | Buena Vista     | 936,662,225 | 961,143,200      | 2015\n",
       "Avatar                                    | Fox             | 760,507,625 | 865,082,100      | 2009\n",
       "Titanic                                   | Paramount       | 658,672,302 | 1,204,368,000    | 1997\n",
       "Jurassic World                            | Universal       | 652,270,625 | 702,747,400      | 2015\n",
       "Marvel's The Avengers                     | Buena Vista     | 623,357,910 | 683,474,000      | 2012\n",
       "The Dark Knight                           | Warner Brothers | 534,858,444 | 661,980,500      | 2008\n",
       "Rogue One: A Star Wars Story              | Buena Vista     | 532,177,324 | 537,326,000      | 2016\n",
       "Beauty and the Beast (2017)               | Buena Vista     | 504,014,165 | 504,014,165      | 2017\n",
       "Finding Dory                              | Buena Vista     | 486,295,561 | 499,245,400      | 2016\n",
       "Star Wars: Episode I - The Phantom Menace | Fox             | 474,544,677 | 802,874,300      | 1999\n",
       "... (190 rows omitted)"
      ]
     },
     "execution_count": 8,
     "metadata": {},
     "output_type": "execute_result"
    }
   ],
   "source": [
    "movies.sort('Gross',descending=True)"
   ]
  },
  {
   "cell_type": "code",
   "execution_count": 9,
   "metadata": {},
   "outputs": [
    {
     "data": {
      "text/plain": [
       "array([198676459, 460998007, 158671368, 435110554, 658672302,  65500000,\n",
       "       260000000, 111721910, 232906145, 184925486, 936662225, 144880014,\n",
       "       290475067,  74000000, 760507625, 309306177, 402453882, 474544677,\n",
       "       422783777, 156000000, 248159971, 104945305,  76408097, 652270625,\n",
       "       134966411, 330252182, 102272727, 188755690, 623357910,  63595658,\n",
       "       534858444, 141843612,  51600000, 242212467, 441226247, 102308889,\n",
       "       106397186, 403706375, 306169268, 285761243,  84254167,  57777778,\n",
       "       234760478,  51081062, 100489151, 115000000,  36000000, 423315812,\n",
       "        42000000, 102247150, 119601481, 251188924,  21333333, 377845905,\n",
       "       380843261, 116000000, 532177324,  93141149, 373585825,  36000000,\n",
       "        72000000, 141600000, 370782930, 380270577, 210609762, 342551365,\n",
       "       448139099, 293506292, 134218018, 177200000, 126737428, 504014165,\n",
       "       486295561,  43656822, 317575550,  93602326, 132088635,  44824144,\n",
       "       112892319, 117235147,  23650000,  84563118, 315544750, 241721524,\n",
       "       250690539,  27200000, 402111870,  46332858,  40356000, 108981275,\n",
       "        81600000, 179870271, 459005868, 310676740, 219195243, 217350219,\n",
       "       415004880, 217631306, 424668047,  20408163, 408010692, 305413918,\n",
       "        23750000,  36764313, 229086679, 197171806, 289916256, 400738009,\n",
       "       336530303, 409013994, 205396118,  16361885, 260044825, 179800601,\n",
       "       381011219, 245852179, 267665011, 322719944, 368061265, 408084349,\n",
       "       281576461, 319246193, 174803506,   9183673, 216540909, 406381596,\n",
       "        86273333,  87404651, 153083102, 218967620, 291710957, 290013036,\n",
       "       309420425, 261988482, 183875760,  21750000, 318412101, 352390543,\n",
       "       279261160, 317101119, 191796233, 389397196, 184208848, 129795554,\n",
       "        56954992, 172825435, 368384330,  56666667, 356461711, 350126372,\n",
       "       106260000, 201578182,  32000000, 125049125, 292004738, 150415432,\n",
       "       184031112, 363070709, 178406268,  79666653, 334191110, 261441092,\n",
       "       233632142, 173585516, 364001123, 167780960, 241438208, 333176600,\n",
       "       353007020, 180981856, 337135885, 336045770,  94213184, 119285432,\n",
       "       206040086, 301959197, 242829261, 249541069,  52223306, 215409889,\n",
       "       226164286, 173837933,  61749765, 156645693, 341268248, 181410615,\n",
       "       165493908, 153665036, 312433331, 293004164, 162831698, 227966634,\n",
       "       108185706, 296623634,  66000000, 103290500, 330360194, 158348367,\n",
       "       325100054, 156452370])"
      ]
     },
     "execution_count": 9,
     "metadata": {},
     "output_type": "execute_result"
    }
   ],
   "source": [
    "movies.column(\"Gross\")"
   ]
  },
  {
   "cell_type": "code",
   "execution_count": 11,
   "metadata": {},
   "outputs": [],
   "source": [
    "adjustment = movies.column(\"Gross (Adjusted)\") / movies.column(\"Gross\")"
   ]
  },
  {
   "cell_type": "code",
   "execution_count": 12,
   "metadata": {},
   "outputs": [
    {
     "data": {
      "text/html": [
       "<table border=\"1\" class=\"dataframe\">\n",
       "    <thead>\n",
       "        <tr>\n",
       "            <th>Title</th> <th>Studio</th> <th>Gross</th> <th>Gross (Adjusted)</th> <th>Year</th> <th>Adjustment</th>\n",
       "        </tr>\n",
       "    </thead>\n",
       "    <tbody>\n",
       "        <tr>\n",
       "            <td>Gone with the Wind              </td> <td>MGM            </td> <td>198,676,459</td> <td>1,796,176,700   </td> <td>1939</td> <td>9.04071   </td>\n",
       "        </tr>\n",
       "        <tr>\n",
       "            <td>Star Wars                       </td> <td>Fox            </td> <td>460,998,007</td> <td>1,583,483,200   </td> <td>1977</td> <td>3.4349    </td>\n",
       "        </tr>\n",
       "        <tr>\n",
       "            <td>The Sound of Music              </td> <td>Fox            </td> <td>158,671,368</td> <td>1,266,072,700   </td> <td>1965</td> <td>7.97921   </td>\n",
       "        </tr>\n",
       "        <tr>\n",
       "            <td>E.T.: The Extra-Terrestrial     </td> <td>Universal      </td> <td>435,110,554</td> <td>1,261,085,000   </td> <td>1982</td> <td>2.89831   </td>\n",
       "        </tr>\n",
       "        <tr>\n",
       "            <td>Titanic                         </td> <td>Paramount      </td> <td>658,672,302</td> <td>1,204,368,000   </td> <td>1997</td> <td>1.82848   </td>\n",
       "        </tr>\n",
       "        <tr>\n",
       "            <td>The Ten Commandments            </td> <td>Paramount      </td> <td>65,500,000 </td> <td>1,164,590,000   </td> <td>1956</td> <td>17.78     </td>\n",
       "        </tr>\n",
       "        <tr>\n",
       "            <td>Jaws                            </td> <td>Universal      </td> <td>260,000,000</td> <td>1,138,620,700   </td> <td>1975</td> <td>4.37931   </td>\n",
       "        </tr>\n",
       "        <tr>\n",
       "            <td>Doctor Zhivago                  </td> <td>MGM            </td> <td>111,721,910</td> <td>1,103,564,200   </td> <td>1965</td> <td>9.87778   </td>\n",
       "        </tr>\n",
       "        <tr>\n",
       "            <td>The Exorcist                    </td> <td>Warner Brothers</td> <td>232,906,145</td> <td>983,226,600     </td> <td>1973</td> <td>4.22156   </td>\n",
       "        </tr>\n",
       "        <tr>\n",
       "            <td>Snow White and the Seven Dwarves</td> <td>Disney         </td> <td>184,925,486</td> <td>969,010,000     </td> <td>1937</td> <td>5.24      </td>\n",
       "        </tr>\n",
       "    </tbody>\n",
       "</table>\n",
       "<p>... (190 rows omitted)</p>"
      ],
      "text/plain": [
       "Title                            | Studio          | Gross       | Gross (Adjusted) | Year | Adjustment\n",
       "Gone with the Wind               | MGM             | 198,676,459 | 1,796,176,700    | 1939 | 9.04071\n",
       "Star Wars                        | Fox             | 460,998,007 | 1,583,483,200    | 1977 | 3.4349\n",
       "The Sound of Music               | Fox             | 158,671,368 | 1,266,072,700    | 1965 | 7.97921\n",
       "E.T.: The Extra-Terrestrial      | Universal       | 435,110,554 | 1,261,085,000    | 1982 | 2.89831\n",
       "Titanic                          | Paramount       | 658,672,302 | 1,204,368,000    | 1997 | 1.82848\n",
       "The Ten Commandments             | Paramount       | 65,500,000  | 1,164,590,000    | 1956 | 17.78\n",
       "Jaws                             | Universal       | 260,000,000 | 1,138,620,700    | 1975 | 4.37931\n",
       "Doctor Zhivago                   | MGM             | 111,721,910 | 1,103,564,200    | 1965 | 9.87778\n",
       "The Exorcist                     | Warner Brothers | 232,906,145 | 983,226,600      | 1973 | 4.22156\n",
       "Snow White and the Seven Dwarves | Disney          | 184,925,486 | 969,010,000      | 1937 | 5.24\n",
       "... (190 rows omitted)"
      ]
     },
     "execution_count": 12,
     "metadata": {},
     "output_type": "execute_result"
    }
   ],
   "source": [
    "movies.with_column(\"Adjustment\", adjustment)"
   ]
  },
  {
   "cell_type": "code",
   "execution_count": 13,
   "metadata": {},
   "outputs": [
    {
     "data": {
      "image/png": "[encoded data removed]",
      "text/plain": [
       "<Figure size 360x360 with 1 Axes>"
      ]
     },
     "metadata": {},
     "output_type": "display_data"
    }
   ],
   "source": [
    "movies.with_column(\"Adjustment\", adjustment).scatter('Year','Adjustment')"
   ]
  },
  {
   "cell_type": "code",
   "execution_count": 14,
   "metadata": {},
   "outputs": [
    {
     "data": {
      "text/html": [
       "<table border=\"1\" class=\"dataframe\">\n",
       "    <thead>\n",
       "        <tr>\n",
       "            <th>Title</th> <th>Studio</th> <th>Gross</th> <th>Gross (Adjusted)</th> <th>Year</th> <th>Adjustment</th>\n",
       "        </tr>\n",
       "    </thead>\n",
       "    <tbody>\n",
       "        <tr>\n",
       "            <td>The Four Horsemen of the Apocalypse</td> <td>Metro          </td> <td>9,183,673  </td> <td>408,214,300     </td> <td>1921</td> <td>44.45     </td>\n",
       "        </tr>\n",
       "        <tr>\n",
       "            <td>Snow White and the Seven Dwarves   </td> <td>Disney         </td> <td>184,925,486</td> <td>969,010,000     </td> <td>1937</td> <td>5.24      </td>\n",
       "        </tr>\n",
       "        <tr>\n",
       "            <td>Gone with the Wind                 </td> <td>MGM            </td> <td>198,676,459</td> <td>1,796,176,700   </td> <td>1939</td> <td>9.04071   </td>\n",
       "        </tr>\n",
       "        <tr>\n",
       "            <td>Pinocchio                          </td> <td>Disney         </td> <td>84,254,167 </td> <td>599,215,600     </td> <td>1940</td> <td>7.112     </td>\n",
       "        </tr>\n",
       "        <tr>\n",
       "            <td>Fantasia                           </td> <td>Disney         </td> <td>76,408,097 </td> <td>738,256,500     </td> <td>1941</td> <td>9.66202   </td>\n",
       "        </tr>\n",
       "        <tr>\n",
       "            <td>Sergeant York                      </td> <td>Warner Brothers</td> <td>16,361,885 </td> <td>427,815,200     </td> <td>1941</td> <td>26.1471   </td>\n",
       "        </tr>\n",
       "        <tr>\n",
       "            <td>Bambi                              </td> <td>RKO            </td> <td>102,247,150</td> <td>566,403,700     </td> <td>1942</td> <td>5.53955   </td>\n",
       "        </tr>\n",
       "        <tr>\n",
       "            <td>The Bells of St. Mary's            </td> <td>RKO            </td> <td>21,333,333 </td> <td>557,803,900     </td> <td>1945</td> <td>26.1471   </td>\n",
       "        </tr>\n",
       "        <tr>\n",
       "            <td>The Best Years of Our Lives        </td> <td>RKO            </td> <td>23,650,000 </td> <td>488,950,000     </td> <td>1946</td> <td>20.6744   </td>\n",
       "        </tr>\n",
       "        <tr>\n",
       "            <td>Duel in the Sun                    </td> <td>Selz.          </td> <td>20,408,163 </td> <td>453,571,400     </td> <td>1946</td> <td>22.225    </td>\n",
       "        </tr>\n",
       "    </tbody>\n",
       "</table>\n",
       "<p>... (190 rows omitted)</p>"
      ],
      "text/plain": [
       "Title                               | Studio          | Gross       | Gross (Adjusted) | Year | Adjustment\n",
       "The Four Horsemen of the Apocalypse | Metro           | 9,183,673   | 408,214,300      | 1921 | 44.45\n",
       "Snow White and the Seven Dwarves    | Disney          | 184,925,486 | 969,010,000      | 1937 | 5.24\n",
       "Gone with the Wind                  | MGM             | 198,676,459 | 1,796,176,700    | 1939 | 9.04071\n",
       "Pinocchio                           | Disney          | 84,254,167  | 599,215,600      | 1940 | 7.112\n",
       "Fantasia                            | Disney          | 76,408,097  | 738,256,500      | 1941 | 9.66202\n",
       "Sergeant York                       | Warner Brothers | 16,361,885  | 427,815,200      | 1941 | 26.1471\n",
       "Bambi                               | RKO             | 102,247,150 | 566,403,700      | 1942 | 5.53955\n",
       "The Bells of St. Mary's             | RKO             | 21,333,333  | 557,803,900      | 1945 | 26.1471\n",
       "The Best Years of Our Lives         | RKO             | 23,650,000  | 488,950,000      | 1946 | 20.6744\n",
       "Duel in the Sun                     | Selz.           | 20,408,163  | 453,571,400      | 1946 | 22.225\n",
       "... (190 rows omitted)"
      ]
     },
     "execution_count": 14,
     "metadata": {},
     "output_type": "execute_result"
    }
   ],
   "source": [
    "movies.with_column(\"Adjustment\", adjustment).sort('Year')"
   ]
  },
  {
   "cell_type": "code",
   "execution_count": 15,
   "metadata": {},
   "outputs": [
    {
     "data": {
      "text/html": [
       "<table border=\"1\" class=\"dataframe\">\n",
       "    <thead>\n",
       "        <tr>\n",
       "            <th>Title</th> <th>Studio</th> <th>Gross</th> <th>Gross (Adjusted)</th> <th>Year</th> <th>Adjustment</th>\n",
       "        </tr>\n",
       "    </thead>\n",
       "    <tbody>\n",
       "        <tr>\n",
       "            <td>The Four Horsemen of the Apocalypse</td> <td>Metro          </td> <td>9,183,673  </td> <td>408,214,300     </td> <td>1921</td> <td>44.45     </td>\n",
       "        </tr>\n",
       "        <tr>\n",
       "            <td>Snow White and the Seven Dwarves   </td> <td>Disney         </td> <td>184,925,486</td> <td>969,010,000     </td> <td>1937</td> <td>5.24      </td>\n",
       "        </tr>\n",
       "        <tr>\n",
       "            <td>Gone with the Wind                 </td> <td>MGM            </td> <td>198,676,459</td> <td>1,796,176,700   </td> <td>1939</td> <td>9.04071   </td>\n",
       "        </tr>\n",
       "        <tr>\n",
       "            <td>Pinocchio                          </td> <td>Disney         </td> <td>84,254,167 </td> <td>599,215,600     </td> <td>1940</td> <td>7.112     </td>\n",
       "        </tr>\n",
       "        <tr>\n",
       "            <td>Fantasia                           </td> <td>Disney         </td> <td>76,408,097 </td> <td>738,256,500     </td> <td>1941</td> <td>9.66202   </td>\n",
       "        </tr>\n",
       "        <tr>\n",
       "            <td>Sergeant York                      </td> <td>Warner Brothers</td> <td>16,361,885 </td> <td>427,815,200     </td> <td>1941</td> <td>26.1471   </td>\n",
       "        </tr>\n",
       "        <tr>\n",
       "            <td>Bambi                              </td> <td>RKO            </td> <td>102,247,150</td> <td>566,403,700     </td> <td>1942</td> <td>5.53955   </td>\n",
       "        </tr>\n",
       "        <tr>\n",
       "            <td>The Bells of St. Mary's            </td> <td>RKO            </td> <td>21,333,333 </td> <td>557,803,900     </td> <td>1945</td> <td>26.1471   </td>\n",
       "        </tr>\n",
       "        <tr>\n",
       "            <td>The Best Years of Our Lives        </td> <td>RKO            </td> <td>23,650,000 </td> <td>488,950,000     </td> <td>1946</td> <td>20.6744   </td>\n",
       "        </tr>\n",
       "        <tr>\n",
       "            <td>Duel in the Sun                    </td> <td>Selz.          </td> <td>20,408,163 </td> <td>453,571,400     </td> <td>1946</td> <td>22.225    </td>\n",
       "        </tr>\n",
       "        <tr>\n",
       "            <td>Cinderella (1950)                  </td> <td>Disney         </td> <td>93,141,149 </td> <td>536,079,700     </td> <td>1950</td> <td>5.75556   </td>\n",
       "        </tr>\n",
       "        <tr>\n",
       "            <td>The Greatest Showman on Earth      </td> <td>Paramount      </td> <td>36,000,000 </td> <td>533,400,000     </td> <td>1952</td> <td>14.8167   </td>\n",
       "        </tr>\n",
       "        <tr>\n",
       "            <td>The Robe                           </td> <td>Fox            </td> <td>36,000,000 </td> <td>581,890,900     </td> <td>1953</td> <td>16.1636   </td>\n",
       "        </tr>\n",
       "        <tr>\n",
       "            <td>House of Wax                       </td> <td>Warner Brothers</td> <td>23,750,000 </td> <td>449,228,700     </td> <td>1953</td> <td>18.9149   </td>\n",
       "        </tr>\n",
       "        <tr>\n",
       "            <td>Peter Pan                          </td> <td>Disney         </td> <td>87,404,651 </td> <td>405,593,100     </td> <td>1953</td> <td>4.64041   </td>\n",
       "        </tr>\n",
       "        <tr>\n",
       "            <td>Rear Window                        </td> <td>Paramount      </td> <td>36,764,313 </td> <td>447,653,700     </td> <td>1954</td> <td>12.1763   </td>\n",
       "        </tr>\n",
       "        <tr>\n",
       "            <td>The Caine Mutiny                   </td> <td>Columbia       </td> <td>21,750,000 </td> <td>394,607,100     </td> <td>1954</td> <td>18.1429   </td>\n",
       "        </tr>\n",
       "        <tr>\n",
       "            <td>Lady and the Tramp                 </td> <td>Disney         </td> <td>93,602,326 </td> <td>495,483,100     </td> <td>1955</td> <td>5.29349   </td>\n",
       "        </tr>\n",
       "        <tr>\n",
       "            <td>The Ten Commandments               </td> <td>Paramount      </td> <td>65,500,000 </td> <td>1,164,590,000   </td> <td>1956</td> <td>17.78     </td>\n",
       "        </tr>\n",
       "        <tr>\n",
       "            <td>Around the World in 80 Days        </td> <td>United Artists </td> <td>42,000,000 </td> <td>574,430,800     </td> <td>1956</td> <td>13.6769   </td>\n",
       "        </tr>\n",
       "    </tbody>\n",
       "</table>\n",
       "<p>... (180 rows omitted)</p>"
      ],
      "text/plain": [
       "<IPython.core.display.HTML object>"
      ]
     },
     "metadata": {},
     "output_type": "display_data"
    }
   ],
   "source": [
    "movies.with_column(\"Adjustment\", adjustment).sort('Year').show(20)"
   ]
  },
  {
   "cell_type": "code",
   "execution_count": null,
   "metadata": {},
   "outputs": [],
   "source": []
  }
 ],
 "metadata": {
  "kernelspec": {
   "display_name": "Python 3",
   "language": "python",
   "name": "python3"
  },
  "language_info": {
   "codemirror_mode": {
    "name": "ipython",
    "version": 3
   },
   "file_extension": ".py",
   "mimetype": "text/x-python",
   "name": "python",
   "nbconvert_exporter": "python",
   "pygments_lexer": "ipython3",
   "version": "3.7.6"
  }
 },
 "nbformat": 4,
 "nbformat_minor": 4
}
