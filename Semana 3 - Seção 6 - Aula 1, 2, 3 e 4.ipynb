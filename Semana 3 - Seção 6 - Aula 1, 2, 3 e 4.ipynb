{
 "cells": [
  {
   "cell_type": "code",
   "execution_count": 1,
   "metadata": {},
   "outputs": [],
   "source": [
    "from datascience import *\n",
    "import numpy as np\n",
    "%matplotlib inline\n",
    "import matplotlib.pyplot as plots\n",
    "plots.style.use('fivethirtyeight')"
   ]
  },
  {
   "cell_type": "markdown",
   "metadata": {},
   "source": [
    "# Census"
   ]
  },
  {
   "cell_type": "code",
   "execution_count": 4,
   "metadata": {},
   "outputs": [
    {
     "data": {
      "text/html": [
       "<table border=\"1\" class=\"dataframe\">\n",
       "    <thead>\n",
       "        <tr>\n",
       "            <th>SEX</th> <th>AGE</th> <th>CENSUS2010POP</th> <th>ESTIMATESBASE2010</th> <th>POPESTIMATE2010</th> <th>POPESTIMATE2011</th> <th>POPESTIMATE2012</th> <th>POPESTIMATE2013</th> <th>POPESTIMATE2014</th> <th>POPESTIMATE2015</th>\n",
       "        </tr>\n",
       "    </thead>\n",
       "    <tbody>\n",
       "        <tr>\n",
       "            <td>0   </td> <td>0   </td> <td>3944153      </td> <td>3944160          </td> <td>3951330        </td> <td>3963087        </td> <td>3926540        </td> <td>3931141        </td> <td>3949775        </td> <td>3978038        </td>\n",
       "        </tr>\n",
       "        <tr>\n",
       "            <td>0   </td> <td>1   </td> <td>3978070      </td> <td>3978090          </td> <td>3957888        </td> <td>3966551        </td> <td>3977939        </td> <td>3942872        </td> <td>3949776        </td> <td>3968564        </td>\n",
       "        </tr>\n",
       "        <tr>\n",
       "            <td>0   </td> <td>2   </td> <td>4096929      </td> <td>4096939          </td> <td>4090862        </td> <td>3971565        </td> <td>3980095        </td> <td>3992720        </td> <td>3959664        </td> <td>3966583        </td>\n",
       "        </tr>\n",
       "        <tr>\n",
       "            <td>0   </td> <td>3   </td> <td>4119040      </td> <td>4119051          </td> <td>4111920        </td> <td>4102470        </td> <td>3983157        </td> <td>3992734        </td> <td>4007079        </td> <td>3974061        </td>\n",
       "        </tr>\n",
       "        <tr>\n",
       "            <td>0   </td> <td>4   </td> <td>4063170      </td> <td>4063186          </td> <td>4077551        </td> <td>4122294        </td> <td>4112849        </td> <td>3994449        </td> <td>4005716        </td> <td>4020035        </td>\n",
       "        </tr>\n",
       "        <tr>\n",
       "            <td>0   </td> <td>5   </td> <td>4056858      </td> <td>4056872          </td> <td>4064653        </td> <td>4087709        </td> <td>4132242        </td> <td>4123626        </td> <td>4006900        </td> <td>4018158        </td>\n",
       "        </tr>\n",
       "        <tr>\n",
       "            <td>0   </td> <td>6   </td> <td>4066381      </td> <td>4066412          </td> <td>4073013        </td> <td>4074993        </td> <td>4097605        </td> <td>4142916        </td> <td>4135930        </td> <td>4019207        </td>\n",
       "        </tr>\n",
       "        <tr>\n",
       "            <td>0   </td> <td>7   </td> <td>4030579      </td> <td>4030594          </td> <td>4043046        </td> <td>4083225        </td> <td>4084913        </td> <td>4108349        </td> <td>4155326        </td> <td>4148360        </td>\n",
       "        </tr>\n",
       "        <tr>\n",
       "            <td>0   </td> <td>8   </td> <td>4046486      </td> <td>4046497          </td> <td>4025604        </td> <td>4053203        </td> <td>4093177        </td> <td>4095711        </td> <td>4120903        </td> <td>4167887        </td>\n",
       "        </tr>\n",
       "        <tr>\n",
       "            <td>0   </td> <td>9   </td> <td>4148353      </td> <td>4148369          </td> <td>4125415        </td> <td>4035710        </td> <td>4063152        </td> <td>4104072        </td> <td>4108349        </td> <td>4133564        </td>\n",
       "        </tr>\n",
       "    </tbody>\n",
       "</table>\n",
       "<p>... (296 rows omitted)</p>"
      ],
      "text/plain": [
       "SEX  | AGE  | CENSUS2010POP | ESTIMATESBASE2010 | POPESTIMATE2010 | POPESTIMATE2011 | POPESTIMATE2012 | POPESTIMATE2013 | POPESTIMATE2014 | POPESTIMATE2015\n",
       "0    | 0    | 3944153       | 3944160           | 3951330         | 3963087         | 3926540         | 3931141         | 3949775         | 3978038\n",
       "0    | 1    | 3978070       | 3978090           | 3957888         | 3966551         | 3977939         | 3942872         | 3949776         | 3968564\n",
       "0    | 2    | 4096929       | 4096939           | 4090862         | 3971565         | 3980095         | 3992720         | 3959664         | 3966583\n",
       "0    | 3    | 4119040       | 4119051           | 4111920         | 4102470         | 3983157         | 3992734         | 4007079         | 3974061\n",
       "0    | 4    | 4063170       | 4063186           | 4077551         | 4122294         | 4112849         | 3994449         | 4005716         | 4020035\n",
       "0    | 5    | 4056858       | 4056872           | 4064653         | 4087709         | 4132242         | 4123626         | 4006900         | 4018158\n",
       "0    | 6    | 4066381       | 4066412           | 4073013         | 4074993         | 4097605         | 4142916         | 4135930         | 4019207\n",
       "0    | 7    | 4030579       | 4030594           | 4043046         | 4083225         | 4084913         | 4108349         | 4155326         | 4148360\n",
       "0    | 8    | 4046486       | 4046497           | 4025604         | 4053203         | 4093177         | 4095711         | 4120903         | 4167887\n",
       "0    | 9    | 4148353       | 4148369           | 4125415         | 4035710         | 4063152         | 4104072         | 4108349         | 4133564\n",
       "... (296 rows omitted)"
      ]
     },
     "execution_count": 4,
     "metadata": {},
     "output_type": "execute_result"
    }
   ],
   "source": [
    "data = 'https://www2.census.gov/programs-surveys/popest/datasets/2010-2015/national/asrh/nc-est2015-agesex-res.csv'\n",
    "full = Table.read_table(data)\n",
    "full"
   ]
  },
  {
   "cell_type": "code",
   "execution_count": 5,
   "metadata": {},
   "outputs": [
    {
     "data": {
      "text/html": [
       "<table border=\"1\" class=\"dataframe\">\n",
       "    <thead>\n",
       "        <tr>\n",
       "            <th>SEX</th> <th>AGE</th> <th>POPESTIMATE2010</th> <th>POPESTIMATE2015</th>\n",
       "        </tr>\n",
       "    </thead>\n",
       "    <tbody>\n",
       "        <tr>\n",
       "            <td>0   </td> <td>0   </td> <td>3951330        </td> <td>3978038        </td>\n",
       "        </tr>\n",
       "        <tr>\n",
       "            <td>0   </td> <td>1   </td> <td>3957888        </td> <td>3968564        </td>\n",
       "        </tr>\n",
       "        <tr>\n",
       "            <td>0   </td> <td>2   </td> <td>4090862        </td> <td>3966583        </td>\n",
       "        </tr>\n",
       "        <tr>\n",
       "            <td>0   </td> <td>3   </td> <td>4111920        </td> <td>3974061        </td>\n",
       "        </tr>\n",
       "        <tr>\n",
       "            <td>0   </td> <td>4   </td> <td>4077551        </td> <td>4020035        </td>\n",
       "        </tr>\n",
       "        <tr>\n",
       "            <td>0   </td> <td>5   </td> <td>4064653        </td> <td>4018158        </td>\n",
       "        </tr>\n",
       "        <tr>\n",
       "            <td>0   </td> <td>6   </td> <td>4073013        </td> <td>4019207        </td>\n",
       "        </tr>\n",
       "        <tr>\n",
       "            <td>0   </td> <td>7   </td> <td>4043046        </td> <td>4148360        </td>\n",
       "        </tr>\n",
       "        <tr>\n",
       "            <td>0   </td> <td>8   </td> <td>4025604        </td> <td>4167887        </td>\n",
       "        </tr>\n",
       "        <tr>\n",
       "            <td>0   </td> <td>9   </td> <td>4125415        </td> <td>4133564        </td>\n",
       "        </tr>\n",
       "    </tbody>\n",
       "</table>\n",
       "<p>... (296 rows omitted)</p>"
      ],
      "text/plain": [
       "SEX  | AGE  | POPESTIMATE2010 | POPESTIMATE2015\n",
       "0    | 0    | 3951330         | 3978038\n",
       "0    | 1    | 3957888         | 3968564\n",
       "0    | 2    | 4090862         | 3966583\n",
       "0    | 3    | 4111920         | 3974061\n",
       "0    | 4    | 4077551         | 4020035\n",
       "0    | 5    | 4064653         | 4018158\n",
       "0    | 6    | 4073013         | 4019207\n",
       "0    | 7    | 4043046         | 4148360\n",
       "0    | 8    | 4025604         | 4167887\n",
       "0    | 9    | 4125415         | 4133564\n",
       "... (296 rows omitted)"
      ]
     },
     "execution_count": 5,
     "metadata": {},
     "output_type": "execute_result"
    }
   ],
   "source": [
    "partial = full.select('SEX','AGE',4,9)\n",
    "partial"
   ]
  },
  {
   "cell_type": "code",
   "execution_count": 6,
   "metadata": {},
   "outputs": [
    {
     "data": {
      "text/html": [
       "<table border=\"1\" class=\"dataframe\">\n",
       "    <thead>\n",
       "        <tr>\n",
       "            <th>SEX</th> <th>AGE</th> <th>2010</th> <th>2015</th>\n",
       "        </tr>\n",
       "    </thead>\n",
       "    <tbody>\n",
       "        <tr>\n",
       "            <td>0   </td> <td>0   </td> <td>3951330</td> <td>3978038</td>\n",
       "        </tr>\n",
       "        <tr>\n",
       "            <td>0   </td> <td>1   </td> <td>3957888</td> <td>3968564</td>\n",
       "        </tr>\n",
       "        <tr>\n",
       "            <td>0   </td> <td>2   </td> <td>4090862</td> <td>3966583</td>\n",
       "        </tr>\n",
       "        <tr>\n",
       "            <td>0   </td> <td>3   </td> <td>4111920</td> <td>3974061</td>\n",
       "        </tr>\n",
       "        <tr>\n",
       "            <td>0   </td> <td>4   </td> <td>4077551</td> <td>4020035</td>\n",
       "        </tr>\n",
       "        <tr>\n",
       "            <td>0   </td> <td>5   </td> <td>4064653</td> <td>4018158</td>\n",
       "        </tr>\n",
       "        <tr>\n",
       "            <td>0   </td> <td>6   </td> <td>4073013</td> <td>4019207</td>\n",
       "        </tr>\n",
       "        <tr>\n",
       "            <td>0   </td> <td>7   </td> <td>4043046</td> <td>4148360</td>\n",
       "        </tr>\n",
       "        <tr>\n",
       "            <td>0   </td> <td>8   </td> <td>4025604</td> <td>4167887</td>\n",
       "        </tr>\n",
       "        <tr>\n",
       "            <td>0   </td> <td>9   </td> <td>4125415</td> <td>4133564</td>\n",
       "        </tr>\n",
       "    </tbody>\n",
       "</table>\n",
       "<p>... (296 rows omitted)</p>"
      ],
      "text/plain": [
       "SEX  | AGE  | 2010    | 2015\n",
       "0    | 0    | 3951330 | 3978038\n",
       "0    | 1    | 3957888 | 3968564\n",
       "0    | 2    | 4090862 | 3966583\n",
       "0    | 3    | 4111920 | 3974061\n",
       "0    | 4    | 4077551 | 4020035\n",
       "0    | 5    | 4064653 | 4018158\n",
       "0    | 6    | 4073013 | 4019207\n",
       "0    | 7    | 4043046 | 4148360\n",
       "0    | 8    | 4025604 | 4167887\n",
       "0    | 9    | 4125415 | 4133564\n",
       "... (296 rows omitted)"
      ]
     },
     "execution_count": 6,
     "metadata": {},
     "output_type": "execute_result"
    }
   ],
   "source": [
    "us_pop = partial.relabeled(2,\"2010\").relabeled(3,'2015')\n",
    "us_pop"
   ]
  },
  {
   "cell_type": "code",
   "execution_count": 7,
   "metadata": {},
   "outputs": [
    {
     "data": {
      "text/html": [
       "<table border=\"1\" class=\"dataframe\">\n",
       "    <thead>\n",
       "        <tr>\n",
       "            <th>SEX</th> <th>AGE</th> <th>2010</th> <th>2015</th>\n",
       "        </tr>\n",
       "    </thead>\n",
       "    <tbody>\n",
       "        <tr>\n",
       "            <td>0   </td> <td>0   </td> <td>3,951,330</td> <td>3,978,038</td>\n",
       "        </tr>\n",
       "        <tr>\n",
       "            <td>0   </td> <td>1   </td> <td>3,957,888</td> <td>3,968,564</td>\n",
       "        </tr>\n",
       "        <tr>\n",
       "            <td>0   </td> <td>2   </td> <td>4,090,862</td> <td>3,966,583</td>\n",
       "        </tr>\n",
       "        <tr>\n",
       "            <td>0   </td> <td>3   </td> <td>4,111,920</td> <td>3,974,061</td>\n",
       "        </tr>\n",
       "        <tr>\n",
       "            <td>0   </td> <td>4   </td> <td>4,077,551</td> <td>4,020,035</td>\n",
       "        </tr>\n",
       "        <tr>\n",
       "            <td>0   </td> <td>5   </td> <td>4,064,653</td> <td>4,018,158</td>\n",
       "        </tr>\n",
       "        <tr>\n",
       "            <td>0   </td> <td>6   </td> <td>4,073,013</td> <td>4,019,207</td>\n",
       "        </tr>\n",
       "        <tr>\n",
       "            <td>0   </td> <td>7   </td> <td>4,043,046</td> <td>4,148,360</td>\n",
       "        </tr>\n",
       "        <tr>\n",
       "            <td>0   </td> <td>8   </td> <td>4,025,604</td> <td>4,167,887</td>\n",
       "        </tr>\n",
       "        <tr>\n",
       "            <td>0   </td> <td>9   </td> <td>4,125,415</td> <td>4,133,564</td>\n",
       "        </tr>\n",
       "    </tbody>\n",
       "</table>\n",
       "<p>... (296 rows omitted)</p>"
      ],
      "text/plain": [
       "SEX  | AGE  | 2010      | 2015\n",
       "0    | 0    | 3,951,330 | 3,978,038\n",
       "0    | 1    | 3,957,888 | 3,968,564\n",
       "0    | 2    | 4,090,862 | 3,966,583\n",
       "0    | 3    | 4,111,920 | 3,974,061\n",
       "0    | 4    | 4,077,551 | 4,020,035\n",
       "0    | 5    | 4,064,653 | 4,018,158\n",
       "0    | 6    | 4,073,013 | 4,019,207\n",
       "0    | 7    | 4,043,046 | 4,148,360\n",
       "0    | 8    | 4,025,604 | 4,167,887\n",
       "0    | 9    | 4,125,415 | 4,133,564\n",
       "... (296 rows omitted)"
      ]
     },
     "execution_count": 7,
     "metadata": {},
     "output_type": "execute_result"
    }
   ],
   "source": [
    "us_pop.set_format([2,3], NumberFormatter)"
   ]
  },
  {
   "cell_type": "code",
   "execution_count": 9,
   "metadata": {},
   "outputs": [
    {
     "data": {
      "text/plain": [
       "array([   26708,    10676,  -124279,  -137859,   -57516,   -46495,\n",
       "         -53806,   105314,   142283,     8149,   -65773,    14817,\n",
       "         -12258,   -35360,    39772,    18740,  -128956,  -182081,\n",
       "        -273010,  -308827,  -205077,    68834,   242467,   435038,\n",
       "         493743,   440136,   383610,   202740,   117128,   172853,\n",
       "         112970,   235717,   376012,   408173,   472649,   431069,\n",
       "         278576,   131637,   -93087,  -453601,  -397641,  -298250,\n",
       "        -158454,     6864,   156657,   -49214,  -369143,  -461788,\n",
       "        -456974,  -446546,  -245943,   -19310,    -6240,    24091,\n",
       "         228080,   294415,   305984,   424727,   518075,   469416,\n",
       "         509071,   434492,   306876,     -774,   830101,   771518,\n",
       "         722799,   610480,  1076541,   364917,   429913,   467584,\n",
       "         585785,   395748,   267716,   207945,   240361,   189912,\n",
       "          98631,    67159,    31471,   -11559,    -9403,     1122,\n",
       "          28568,    42010,    24532,    53443,    53098,    50654,\n",
       "          74710,    95876,    71818,    74742,    62343,    42934,\n",
       "          25726,    23484,    14954,    11463,    22564, 12071957,\n",
       "          16714,     8963,   -62081,   -70628,   -28388,   -25725,\n",
       "         -28747,    53979,    74363,     4641,   -38224,     1945,\n",
       "         -12869,   -22245,    13306,     2547,   -75761,  -107664,\n",
       "        -149692,  -150514,   -91472,    48923,   143497,   236774,\n",
       "         256590,   230384,   208652,   119425,    79757,   109247,\n",
       "          63968,   126326,   195016,   211986,   239986,   224634,\n",
       "         145889,    75926,   -44236,  -222140,  -200303,  -154838,\n",
       "         -89471,     1380,    72631,   -19421,  -173876,  -218338,\n",
       "        -220223,  -209586,  -117860,    -7055,    -2073,    15525,\n",
       "         114944,   153299,   158833,   214554,   253548,   229525,\n",
       "         244788,   202256,   136854,   -12389,   387254,   365250,\n",
       "         343545,   292815,   518230,   181244,   208599,   219844,\n",
       "         278122,   188995,   127262,   103996,   121207,    97682,\n",
       "          57079,    44202,    29024,    11918,    14822,    19176,\n",
       "          30948,    36721,    28122,    33762,    32656,    27624,\n",
       "          34080,    38579,    30372,    28478,    24308,    16279,\n",
       "          10563,     8317,     5214,     3473,     5736,  6141254,\n",
       "           9994,     1713,   -62198,   -67231,   -29128,   -20770,\n",
       "         -25059,    51335,    67920,     3508,   -27549,    12872,\n",
       "            611,   -13115,    26466,    16193,   -53195,   -74417,\n",
       "        -123318,  -158313,  -113605,    19911,    98970,   198264,\n",
       "         237153,   209752,   174958,    83315,    37371,    63606,\n",
       "          49002,   109391,   180996,   196187,   232663,   206435,\n",
       "         132687,    55711,   -48851,  -231461,  -197338,  -143412,\n",
       "         -68983,     5484,    84026,   -29793,  -195267,  -243450,\n",
       "        -236751,  -236960,  -128083,   -12255,    -4167,     8566,\n",
       "         113136,   141116,   147151,   210173,   264527,   239891,\n",
       "         264283,   232236,   170022,    11615,   442847,   406268,\n",
       "         379254,   317665,   558311,   183673,   221314,   247740,\n",
       "         307663,   206753,   140454,   103949,   119154,    92230,\n",
       "          41552,    22957,     2447,   -23477,   -24225,   -18054,\n",
       "          -2380,     5289,    -3590,    19681,    20442,    23030,\n",
       "          40630,    57297,    41446,    46264,    38035,    26655,\n",
       "          15163,    15167,     9740,     7990,    16828,  5930703])"
      ]
     },
     "execution_count": 9,
     "metadata": {},
     "output_type": "execute_result"
    }
   ],
   "source": [
    "us_pop.column('2015') - us_pop.column('2010')"
   ]
  },
  {
   "cell_type": "code",
   "execution_count": 12,
   "metadata": {},
   "outputs": [
    {
     "data": {
      "text/html": [
       "<table border=\"1\" class=\"dataframe\">\n",
       "    <thead>\n",
       "        <tr>\n",
       "            <th>SEX</th> <th>AGE</th> <th>2010</th> <th>2015</th> <th>Change</th> <th>Total Growth</th>\n",
       "        </tr>\n",
       "    </thead>\n",
       "    <tbody>\n",
       "        <tr>\n",
       "            <td>0   </td> <td>0   </td> <td>3,951,330</td> <td>3,978,038</td> <td>26708  </td> <td>0.00675924  </td>\n",
       "        </tr>\n",
       "        <tr>\n",
       "            <td>0   </td> <td>1   </td> <td>3,957,888</td> <td>3,968,564</td> <td>10676  </td> <td>0.0026974   </td>\n",
       "        </tr>\n",
       "        <tr>\n",
       "            <td>0   </td> <td>2   </td> <td>4,090,862</td> <td>3,966,583</td> <td>-124279</td> <td>-0.0303797  </td>\n",
       "        </tr>\n",
       "        <tr>\n",
       "            <td>0   </td> <td>3   </td> <td>4,111,920</td> <td>3,974,061</td> <td>-137859</td> <td>-0.0335267  </td>\n",
       "        </tr>\n",
       "        <tr>\n",
       "            <td>0   </td> <td>4   </td> <td>4,077,551</td> <td>4,020,035</td> <td>-57516 </td> <td>-0.0141055  </td>\n",
       "        </tr>\n",
       "        <tr>\n",
       "            <td>0   </td> <td>5   </td> <td>4,064,653</td> <td>4,018,158</td> <td>-46495 </td> <td>-0.0114389  </td>\n",
       "        </tr>\n",
       "        <tr>\n",
       "            <td>0   </td> <td>6   </td> <td>4,073,013</td> <td>4,019,207</td> <td>-53806 </td> <td>-0.0132104  </td>\n",
       "        </tr>\n",
       "        <tr>\n",
       "            <td>0   </td> <td>7   </td> <td>4,043,046</td> <td>4,148,360</td> <td>105314 </td> <td>0.0260482   </td>\n",
       "        </tr>\n",
       "        <tr>\n",
       "            <td>0   </td> <td>8   </td> <td>4,025,604</td> <td>4,167,887</td> <td>142283 </td> <td>0.0353445   </td>\n",
       "        </tr>\n",
       "        <tr>\n",
       "            <td>0   </td> <td>9   </td> <td>4,125,415</td> <td>4,133,564</td> <td>8149   </td> <td>0.00197532  </td>\n",
       "        </tr>\n",
       "    </tbody>\n",
       "</table>\n",
       "<p>... (296 rows omitted)</p>"
      ],
      "text/plain": [
       "SEX  | AGE  | 2010      | 2015      | Change  | Total Growth\n",
       "0    | 0    | 3,951,330 | 3,978,038 | 26708   | 0.00675924\n",
       "0    | 1    | 3,957,888 | 3,968,564 | 10676   | 0.0026974\n",
       "0    | 2    | 4,090,862 | 3,966,583 | -124279 | -0.0303797\n",
       "0    | 3    | 4,111,920 | 3,974,061 | -137859 | -0.0335267\n",
       "0    | 4    | 4,077,551 | 4,020,035 | -57516  | -0.0141055\n",
       "0    | 5    | 4,064,653 | 4,018,158 | -46495  | -0.0114389\n",
       "0    | 6    | 4,073,013 | 4,019,207 | -53806  | -0.0132104\n",
       "0    | 7    | 4,043,046 | 4,148,360 | 105314  | 0.0260482\n",
       "0    | 8    | 4,025,604 | 4,167,887 | 142283  | 0.0353445\n",
       "0    | 9    | 4,125,415 | 4,133,564 | 8149    | 0.00197532\n",
       "... (296 rows omitted)"
      ]
     },
     "execution_count": 12,
     "metadata": {},
     "output_type": "execute_result"
    }
   ],
   "source": [
    "change = us_pop.column('2015') - us_pop.column('2010')\n",
    "census = us_pop.with_columns('Change', change,\n",
    "                            'Total Growth', change / us_pop.column('2010')\n",
    "                            )\n",
    "census"
   ]
  },
  {
   "cell_type": "code",
   "execution_count": 17,
   "metadata": {},
   "outputs": [
    {
     "data": {
      "text/html": [
       "<table border=\"1\" class=\"dataframe\">\n",
       "    <thead>\n",
       "        <tr>\n",
       "            <th>SEX</th> <th>AGE</th> <th>2010</th> <th>2015</th> <th>Change</th> <th>Total Growth</th>\n",
       "        </tr>\n",
       "    </thead>\n",
       "    <tbody>\n",
       "        <tr>\n",
       "            <td>0   </td> <td>0   </td> <td>3,951,330</td> <td>3,978,038</td> <td>26,708  </td> <td>0.68%       </td>\n",
       "        </tr>\n",
       "        <tr>\n",
       "            <td>0   </td> <td>1   </td> <td>3,957,888</td> <td>3,968,564</td> <td>10,676  </td> <td>0.27%       </td>\n",
       "        </tr>\n",
       "        <tr>\n",
       "            <td>0   </td> <td>2   </td> <td>4,090,862</td> <td>3,966,583</td> <td>-124,279</td> <td>-3.04%      </td>\n",
       "        </tr>\n",
       "        <tr>\n",
       "            <td>0   </td> <td>3   </td> <td>4,111,920</td> <td>3,974,061</td> <td>-137,859</td> <td>-3.35%      </td>\n",
       "        </tr>\n",
       "        <tr>\n",
       "            <td>0   </td> <td>4   </td> <td>4,077,551</td> <td>4,020,035</td> <td>-57,516 </td> <td>-1.41%      </td>\n",
       "        </tr>\n",
       "        <tr>\n",
       "            <td>0   </td> <td>5   </td> <td>4,064,653</td> <td>4,018,158</td> <td>-46,495 </td> <td>-1.14%      </td>\n",
       "        </tr>\n",
       "        <tr>\n",
       "            <td>0   </td> <td>6   </td> <td>4,073,013</td> <td>4,019,207</td> <td>-53,806 </td> <td>-1.32%      </td>\n",
       "        </tr>\n",
       "        <tr>\n",
       "            <td>0   </td> <td>7   </td> <td>4,043,046</td> <td>4,148,360</td> <td>105,314 </td> <td>2.60%       </td>\n",
       "        </tr>\n",
       "        <tr>\n",
       "            <td>0   </td> <td>8   </td> <td>4,025,604</td> <td>4,167,887</td> <td>142,283 </td> <td>3.53%       </td>\n",
       "        </tr>\n",
       "        <tr>\n",
       "            <td>0   </td> <td>9   </td> <td>4,125,415</td> <td>4,133,564</td> <td>8,149   </td> <td>0.20%       </td>\n",
       "        </tr>\n",
       "    </tbody>\n",
       "</table>\n",
       "<p>... (296 rows omitted)</p>"
      ],
      "text/plain": [
       "SEX  | AGE  | 2010      | 2015      | Change   | Total Growth\n",
       "0    | 0    | 3,951,330 | 3,978,038 | 26,708   | 0.68%\n",
       "0    | 1    | 3,957,888 | 3,968,564 | 10,676   | 0.27%\n",
       "0    | 2    | 4,090,862 | 3,966,583 | -124,279 | -3.04%\n",
       "0    | 3    | 4,111,920 | 3,974,061 | -137,859 | -3.35%\n",
       "0    | 4    | 4,077,551 | 4,020,035 | -57,516  | -1.41%\n",
       "0    | 5    | 4,064,653 | 4,018,158 | -46,495  | -1.14%\n",
       "0    | 6    | 4,073,013 | 4,019,207 | -53,806  | -1.32%\n",
       "0    | 7    | 4,043,046 | 4,148,360 | 105,314  | 2.60%\n",
       "0    | 8    | 4,025,604 | 4,167,887 | 142,283  | 3.53%\n",
       "0    | 9    | 4,125,415 | 4,133,564 | 8,149    | 0.20%\n",
       "... (296 rows omitted)"
      ]
     },
     "execution_count": 17,
     "metadata": {},
     "output_type": "execute_result"
    }
   ],
   "source": [
    "census.set_format('Change', NumberFormatter)\n",
    "census.set_format(5, PercentFormatter)"
   ]
  },
  {
   "cell_type": "code",
   "execution_count": 37,
   "metadata": {},
   "outputs": [
    {
     "data": {
      "text/html": [
       "<table border=\"1\" class=\"dataframe\">\n",
       "    <thead>\n",
       "        <tr>\n",
       "            <th>SEX</th> <th>AGE</th> <th>2010</th> <th>2015</th> <th>Change</th> <th>Total Growth</th> <th>Annual Growth</th>\n",
       "        </tr>\n",
       "    </thead>\n",
       "    <tbody>\n",
       "        <tr>\n",
       "            <td>0   </td> <td>999 </td> <td>309,346,863</td> <td>321,418,820</td> <td>12,071,957</td> <td>3.90%       </td> <td>0.77%        </td>\n",
       "        </tr>\n",
       "        <tr>\n",
       "            <td>1   </td> <td>999 </td> <td>152,088,043</td> <td>158,229,297</td> <td>6,141,254 </td> <td>4.04%       </td> <td>0.79%        </td>\n",
       "        </tr>\n",
       "        <tr>\n",
       "            <td>2   </td> <td>999 </td> <td>157,258,820</td> <td>163,189,523</td> <td>5,930,703 </td> <td>3.77%       </td> <td>0.74%        </td>\n",
       "        </tr>\n",
       "        <tr>\n",
       "            <td>0   </td> <td>68  </td> <td>2,359,816  </td> <td>3,436,357  </td> <td>1,076,541 </td> <td>45.62%      </td> <td>7.81%        </td>\n",
       "        </tr>\n",
       "        <tr>\n",
       "            <td>0   </td> <td>64  </td> <td>2,706,055  </td> <td>3,536,156  </td> <td>830,101   </td> <td>30.68%      </td> <td>5.50%        </td>\n",
       "        </tr>\n",
       "        <tr>\n",
       "            <td>0   </td> <td>65  </td> <td>2,678,525  </td> <td>3,450,043  </td> <td>771,518   </td> <td>28.80%      </td> <td>5.19%        </td>\n",
       "        </tr>\n",
       "        <tr>\n",
       "            <td>0   </td> <td>66  </td> <td>2,621,335  </td> <td>3,344,134  </td> <td>722,799   </td> <td>27.57%      </td> <td>4.99%        </td>\n",
       "        </tr>\n",
       "        <tr>\n",
       "            <td>0   </td> <td>67  </td> <td>2,693,707  </td> <td>3,304,187  </td> <td>610,480   </td> <td>22.66%      </td> <td>4.17%        </td>\n",
       "        </tr>\n",
       "        <tr>\n",
       "            <td>0   </td> <td>72  </td> <td>1,883,820  </td> <td>2,469,605  </td> <td>585,785   </td> <td>31.10%      </td> <td>5.56%        </td>\n",
       "        </tr>\n",
       "        <tr>\n",
       "            <td>2   </td> <td>68  </td> <td>1,254,117  </td> <td>1,812,428  </td> <td>558,311   </td> <td>44.52%      </td> <td>7.64%        </td>\n",
       "        </tr>\n",
       "    </tbody>\n",
       "</table>\n",
       "<p>... (296 rows omitted)</p>"
      ],
      "text/plain": [
       "SEX  | AGE  | 2010        | 2015        | Change     | Total Growth | Annual Growth\n",
       "0    | 999  | 309,346,863 | 321,418,820 | 12,071,957 | 3.90%        | 0.77%\n",
       "1    | 999  | 152,088,043 | 158,229,297 | 6,141,254  | 4.04%        | 0.79%\n",
       "2    | 999  | 157,258,820 | 163,189,523 | 5,930,703  | 3.77%        | 0.74%\n",
       "0    | 68   | 2,359,816   | 3,436,357   | 1,076,541  | 45.62%       | 7.81%\n",
       "0    | 64   | 2,706,055   | 3,536,156   | 830,101    | 30.68%       | 5.50%\n",
       "0    | 65   | 2,678,525   | 3,450,043   | 771,518    | 28.80%       | 5.19%\n",
       "0    | 66   | 2,621,335   | 3,344,134   | 722,799    | 27.57%       | 4.99%\n",
       "0    | 67   | 2,693,707   | 3,304,187   | 610,480    | 22.66%       | 4.17%\n",
       "0    | 72   | 1,883,820   | 2,469,605   | 585,785    | 31.10%       | 5.56%\n",
       "2    | 68   | 1,254,117   | 1,812,428   | 558,311    | 44.52%       | 7.64%\n",
       "... (296 rows omitted)"
      ]
     },
     "execution_count": 37,
     "metadata": {},
     "output_type": "execute_result"
    }
   ],
   "source": [
    "census.sort('Change', descending=True)"
   ]
  },
  {
   "cell_type": "code",
   "execution_count": 21,
   "metadata": {},
   "outputs": [
    {
     "data": {
      "text/plain": [
       "Row(SEX=0, AGE=999, 2010=309346863, 2015=321418820, Change=12071957, Total Growth=0.039024016222204264)"
      ]
     },
     "execution_count": 21,
     "metadata": {},
     "output_type": "execute_result"
    }
   ],
   "source": [
    "everyone = census.sort('Change', descending=True).row(0)\n",
    "everyone"
   ]
  },
  {
   "cell_type": "code",
   "execution_count": 22,
   "metadata": {},
   "outputs": [
    {
     "data": {
      "text/plain": [
       "309346863"
      ]
     },
     "execution_count": 22,
     "metadata": {},
     "output_type": "execute_result"
    }
   ],
   "source": [
    "everyone.item('2010')"
   ]
  },
  {
   "cell_type": "code",
   "execution_count": 23,
   "metadata": {},
   "outputs": [
    {
     "data": {
      "text/plain": [
       "309346863"
      ]
     },
     "execution_count": 23,
     "metadata": {},
     "output_type": "execute_result"
    }
   ],
   "source": [
    "everyone.item(2)"
   ]
  },
  {
   "cell_type": "code",
   "execution_count": 24,
   "metadata": {},
   "outputs": [
    {
     "data": {
      "text/plain": [
       "1.0390240162222042"
      ]
     },
     "execution_count": 24,
     "metadata": {},
     "output_type": "execute_result"
    }
   ],
   "source": [
    "everyone.item(3)/everyone.item(2)"
   ]
  },
  {
   "cell_type": "code",
   "execution_count": 25,
   "metadata": {},
   "outputs": [
    {
     "data": {
      "text/plain": [
       "0.007685750230353783"
      ]
     },
     "execution_count": 25,
     "metadata": {},
     "output_type": "execute_result"
    }
   ],
   "source": [
    "(everyone.item(3)/everyone.item(2)) ** (1/5) -1"
   ]
  },
  {
   "cell_type": "code",
   "execution_count": 30,
   "metadata": {},
   "outputs": [
    {
     "data": {
      "text/plain": [
       "0.007685750230353783"
      ]
     },
     "execution_count": 30,
     "metadata": {},
     "output_type": "execute_result"
    }
   ],
   "source": [
    "five_year_growth = everyone.item(3)/everyone.item(2)\n",
    "five_year_growth ** (1/5) -1"
   ]
  },
  {
   "cell_type": "code",
   "execution_count": 31,
   "metadata": {},
   "outputs": [
    {
     "data": {
      "text/html": [
       "<table border=\"1\" class=\"dataframe\">\n",
       "    <thead>\n",
       "        <tr>\n",
       "            <th>SEX</th> <th>AGE</th> <th>2010</th> <th>2015</th> <th>Change</th> <th>Total Growth</th>\n",
       "        </tr>\n",
       "    </thead>\n",
       "    <tbody>\n",
       "        <tr>\n",
       "            <td>0   </td> <td>0   </td> <td>3,951,330</td> <td>3,978,038</td> <td>26,708  </td> <td>0.68%       </td>\n",
       "        </tr>\n",
       "        <tr>\n",
       "            <td>0   </td> <td>1   </td> <td>3,957,888</td> <td>3,968,564</td> <td>10,676  </td> <td>0.27%       </td>\n",
       "        </tr>\n",
       "        <tr>\n",
       "            <td>0   </td> <td>2   </td> <td>4,090,862</td> <td>3,966,583</td> <td>-124,279</td> <td>-3.04%      </td>\n",
       "        </tr>\n",
       "        <tr>\n",
       "            <td>0   </td> <td>3   </td> <td>4,111,920</td> <td>3,974,061</td> <td>-137,859</td> <td>-3.35%      </td>\n",
       "        </tr>\n",
       "        <tr>\n",
       "            <td>0   </td> <td>4   </td> <td>4,077,551</td> <td>4,020,035</td> <td>-57,516 </td> <td>-1.41%      </td>\n",
       "        </tr>\n",
       "        <tr>\n",
       "            <td>0   </td> <td>5   </td> <td>4,064,653</td> <td>4,018,158</td> <td>-46,495 </td> <td>-1.14%      </td>\n",
       "        </tr>\n",
       "        <tr>\n",
       "            <td>0   </td> <td>6   </td> <td>4,073,013</td> <td>4,019,207</td> <td>-53,806 </td> <td>-1.32%      </td>\n",
       "        </tr>\n",
       "        <tr>\n",
       "            <td>0   </td> <td>7   </td> <td>4,043,046</td> <td>4,148,360</td> <td>105,314 </td> <td>2.60%       </td>\n",
       "        </tr>\n",
       "        <tr>\n",
       "            <td>0   </td> <td>8   </td> <td>4,025,604</td> <td>4,167,887</td> <td>142,283 </td> <td>3.53%       </td>\n",
       "        </tr>\n",
       "        <tr>\n",
       "            <td>0   </td> <td>9   </td> <td>4,125,415</td> <td>4,133,564</td> <td>8,149   </td> <td>0.20%       </td>\n",
       "        </tr>\n",
       "    </tbody>\n",
       "</table>\n",
       "<p>... (296 rows omitted)</p>"
      ],
      "text/plain": [
       "SEX  | AGE  | 2010      | 2015      | Change   | Total Growth\n",
       "0    | 0    | 3,951,330 | 3,978,038 | 26,708   | 0.68%\n",
       "0    | 1    | 3,957,888 | 3,968,564 | 10,676   | 0.27%\n",
       "0    | 2    | 4,090,862 | 3,966,583 | -124,279 | -3.04%\n",
       "0    | 3    | 4,111,920 | 3,974,061 | -137,859 | -3.35%\n",
       "0    | 4    | 4,077,551 | 4,020,035 | -57,516  | -1.41%\n",
       "0    | 5    | 4,064,653 | 4,018,158 | -46,495  | -1.14%\n",
       "0    | 6    | 4,073,013 | 4,019,207 | -53,806  | -1.32%\n",
       "0    | 7    | 4,043,046 | 4,148,360 | 105,314  | 2.60%\n",
       "0    | 8    | 4,025,604 | 4,167,887 | 142,283  | 3.53%\n",
       "0    | 9    | 4,125,415 | 4,133,564 | 8,149    | 0.20%\n",
       "... (296 rows omitted)"
      ]
     },
     "execution_count": 31,
     "metadata": {},
     "output_type": "execute_result"
    }
   ],
   "source": [
    "census"
   ]
  },
  {
   "cell_type": "code",
   "execution_count": 36,
   "metadata": {},
   "outputs": [
    {
     "data": {
      "text/html": [
       "<table border=\"1\" class=\"dataframe\">\n",
       "    <thead>\n",
       "        <tr>\n",
       "            <th>SEX</th> <th>AGE</th> <th>2010</th> <th>2015</th> <th>Change</th> <th>Total Growth</th> <th>Annual Growth</th>\n",
       "        </tr>\n",
       "    </thead>\n",
       "    <tbody>\n",
       "        <tr>\n",
       "            <td>0   </td> <td>0   </td> <td>3,951,330</td> <td>3,978,038</td> <td>26,708  </td> <td>0.68%       </td> <td>0.13%        </td>\n",
       "        </tr>\n",
       "        <tr>\n",
       "            <td>0   </td> <td>1   </td> <td>3,957,888</td> <td>3,968,564</td> <td>10,676  </td> <td>0.27%       </td> <td>0.05%        </td>\n",
       "        </tr>\n",
       "        <tr>\n",
       "            <td>0   </td> <td>2   </td> <td>4,090,862</td> <td>3,966,583</td> <td>-124,279</td> <td>-3.04%      </td> <td>-0.62%       </td>\n",
       "        </tr>\n",
       "        <tr>\n",
       "            <td>0   </td> <td>3   </td> <td>4,111,920</td> <td>3,974,061</td> <td>-137,859</td> <td>-3.35%      </td> <td>-0.68%       </td>\n",
       "        </tr>\n",
       "        <tr>\n",
       "            <td>0   </td> <td>4   </td> <td>4,077,551</td> <td>4,020,035</td> <td>-57,516 </td> <td>-1.41%      </td> <td>-0.28%       </td>\n",
       "        </tr>\n",
       "        <tr>\n",
       "            <td>0   </td> <td>5   </td> <td>4,064,653</td> <td>4,018,158</td> <td>-46,495 </td> <td>-1.14%      </td> <td>-0.23%       </td>\n",
       "        </tr>\n",
       "        <tr>\n",
       "            <td>0   </td> <td>6   </td> <td>4,073,013</td> <td>4,019,207</td> <td>-53,806 </td> <td>-1.32%      </td> <td>-0.27%       </td>\n",
       "        </tr>\n",
       "        <tr>\n",
       "            <td>0   </td> <td>7   </td> <td>4,043,046</td> <td>4,148,360</td> <td>105,314 </td> <td>2.60%       </td> <td>0.52%        </td>\n",
       "        </tr>\n",
       "        <tr>\n",
       "            <td>0   </td> <td>8   </td> <td>4,025,604</td> <td>4,167,887</td> <td>142,283 </td> <td>3.53%       </td> <td>0.70%        </td>\n",
       "        </tr>\n",
       "        <tr>\n",
       "            <td>0   </td> <td>9   </td> <td>4,125,415</td> <td>4,133,564</td> <td>8,149   </td> <td>0.20%       </td> <td>0.04%        </td>\n",
       "        </tr>\n",
       "    </tbody>\n",
       "</table>\n",
       "<p>... (296 rows omitted)</p>"
      ],
      "text/plain": [
       "SEX  | AGE  | 2010      | 2015      | Change   | Total Growth | Annual Growth\n",
       "0    | 0    | 3,951,330 | 3,978,038 | 26,708   | 0.68%        | 0.13%\n",
       "0    | 1    | 3,957,888 | 3,968,564 | 10,676   | 0.27%        | 0.05%\n",
       "0    | 2    | 4,090,862 | 3,966,583 | -124,279 | -3.04%       | -0.62%\n",
       "0    | 3    | 4,111,920 | 3,974,061 | -137,859 | -3.35%       | -0.68%\n",
       "0    | 4    | 4,077,551 | 4,020,035 | -57,516  | -1.41%       | -0.28%\n",
       "0    | 5    | 4,064,653 | 4,018,158 | -46,495  | -1.14%       | -0.23%\n",
       "0    | 6    | 4,073,013 | 4,019,207 | -53,806  | -1.32%       | -0.27%\n",
       "0    | 7    | 4,043,046 | 4,148,360 | 105,314  | 2.60%        | 0.52%\n",
       "0    | 8    | 4,025,604 | 4,167,887 | 142,283  | 3.53%        | 0.70%\n",
       "0    | 9    | 4,125,415 | 4,133,564 | 8,149    | 0.20%        | 0.04%\n",
       "... (296 rows omitted)"
      ]
     },
     "execution_count": 36,
     "metadata": {},
     "output_type": "execute_result"
    }
   ],
   "source": [
    "census = census.with_column(\n",
    "    'Annual Growth',\n",
    "(census.column(5) +1) ** (1/5) -1\n",
    ")\n",
    "census.set_format(6, PercentFormatter)"
   ]
  },
  {
   "cell_type": "code",
   "execution_count": 38,
   "metadata": {},
   "outputs": [
    {
     "data": {
      "text/html": [
       "<table border=\"1\" class=\"dataframe\">\n",
       "    <thead>\n",
       "        <tr>\n",
       "            <th>SEX</th> <th>AGE</th> <th>2010</th> <th>2015</th> <th>Change</th> <th>Total Growth</th> <th>Annual Growth</th>\n",
       "        </tr>\n",
       "    </thead>\n",
       "    <tbody>\n",
       "        <tr>\n",
       "            <td>0   </td> <td>999 </td> <td>309,346,863</td> <td>321,418,820</td> <td>12,071,957</td> <td>3.90%       </td> <td>0.77%        </td>\n",
       "        </tr>\n",
       "        <tr>\n",
       "            <td>1   </td> <td>999 </td> <td>152,088,043</td> <td>158,229,297</td> <td>6,141,254 </td> <td>4.04%       </td> <td>0.79%        </td>\n",
       "        </tr>\n",
       "        <tr>\n",
       "            <td>2   </td> <td>999 </td> <td>157,258,820</td> <td>163,189,523</td> <td>5,930,703 </td> <td>3.77%       </td> <td>0.74%        </td>\n",
       "        </tr>\n",
       "        <tr>\n",
       "            <td>0   </td> <td>68  </td> <td>2,359,816  </td> <td>3,436,357  </td> <td>1,076,541 </td> <td>45.62%      </td> <td>7.81%        </td>\n",
       "        </tr>\n",
       "        <tr>\n",
       "            <td>0   </td> <td>64  </td> <td>2,706,055  </td> <td>3,536,156  </td> <td>830,101   </td> <td>30.68%      </td> <td>5.50%        </td>\n",
       "        </tr>\n",
       "        <tr>\n",
       "            <td>0   </td> <td>65  </td> <td>2,678,525  </td> <td>3,450,043  </td> <td>771,518   </td> <td>28.80%      </td> <td>5.19%        </td>\n",
       "        </tr>\n",
       "        <tr>\n",
       "            <td>0   </td> <td>66  </td> <td>2,621,335  </td> <td>3,344,134  </td> <td>722,799   </td> <td>27.57%      </td> <td>4.99%        </td>\n",
       "        </tr>\n",
       "        <tr>\n",
       "            <td>0   </td> <td>67  </td> <td>2,693,707  </td> <td>3,304,187  </td> <td>610,480   </td> <td>22.66%      </td> <td>4.17%        </td>\n",
       "        </tr>\n",
       "        <tr>\n",
       "            <td>0   </td> <td>72  </td> <td>1,883,820  </td> <td>2,469,605  </td> <td>585,785   </td> <td>31.10%      </td> <td>5.56%        </td>\n",
       "        </tr>\n",
       "        <tr>\n",
       "            <td>2   </td> <td>68  </td> <td>1,254,117  </td> <td>1,812,428  </td> <td>558,311   </td> <td>44.52%      </td> <td>7.64%        </td>\n",
       "        </tr>\n",
       "    </tbody>\n",
       "</table>\n",
       "<p>... (296 rows omitted)</p>"
      ],
      "text/plain": [
       "SEX  | AGE  | 2010        | 2015        | Change     | Total Growth | Annual Growth\n",
       "0    | 999  | 309,346,863 | 321,418,820 | 12,071,957 | 3.90%        | 0.77%\n",
       "1    | 999  | 152,088,043 | 158,229,297 | 6,141,254  | 4.04%        | 0.79%\n",
       "2    | 999  | 157,258,820 | 163,189,523 | 5,930,703  | 3.77%        | 0.74%\n",
       "0    | 68   | 2,359,816   | 3,436,357   | 1,076,541  | 45.62%       | 7.81%\n",
       "0    | 64   | 2,706,055   | 3,536,156   | 830,101    | 30.68%       | 5.50%\n",
       "0    | 65   | 2,678,525   | 3,450,043   | 771,518    | 28.80%       | 5.19%\n",
       "0    | 66   | 2,621,335   | 3,344,134   | 722,799    | 27.57%       | 4.99%\n",
       "0    | 67   | 2,693,707   | 3,304,187   | 610,480    | 22.66%       | 4.17%\n",
       "0    | 72   | 1,883,820   | 2,469,605   | 585,785    | 31.10%       | 5.56%\n",
       "2    | 68   | 1,254,117   | 1,812,428   | 558,311    | 44.52%       | 7.64%\n",
       "... (296 rows omitted)"
      ]
     },
     "execution_count": 38,
     "metadata": {},
     "output_type": "execute_result"
    }
   ],
   "source": [
    "census.sort('Change', descending=True)"
   ]
  },
  {
   "cell_type": "code",
   "execution_count": 40,
   "metadata": {},
   "outputs": [
    {
     "data": {
      "text/html": [
       "<table border=\"1\" class=\"dataframe\">\n",
       "    <thead>\n",
       "        <tr>\n",
       "            <th>SEX</th> <th>AGE</th> <th>2015</th>\n",
       "        </tr>\n",
       "    </thead>\n",
       "    <tbody>\n",
       "        <tr>\n",
       "            <td>1   </td> <td>0   </td> <td>2,035,134</td>\n",
       "        </tr>\n",
       "        <tr>\n",
       "            <td>1   </td> <td>1   </td> <td>2,029,295</td>\n",
       "        </tr>\n",
       "        <tr>\n",
       "            <td>1   </td> <td>2   </td> <td>2,026,604</td>\n",
       "        </tr>\n",
       "        <tr>\n",
       "            <td>1   </td> <td>3   </td> <td>2,030,644</td>\n",
       "        </tr>\n",
       "        <tr>\n",
       "            <td>1   </td> <td>4   </td> <td>2,055,924</td>\n",
       "        </tr>\n",
       "        <tr>\n",
       "            <td>1   </td> <td>5   </td> <td>2,050,848</td>\n",
       "        </tr>\n",
       "        <tr>\n",
       "            <td>1   </td> <td>6   </td> <td>2,050,663</td>\n",
       "        </tr>\n",
       "        <tr>\n",
       "            <td>1   </td> <td>7   </td> <td>2,117,118</td>\n",
       "        </tr>\n",
       "        <tr>\n",
       "            <td>1   </td> <td>8   </td> <td>2,128,825</td>\n",
       "        </tr>\n",
       "        <tr>\n",
       "            <td>1   </td> <td>9   </td> <td>2,111,678</td>\n",
       "        </tr>\n",
       "    </tbody>\n",
       "</table>\n",
       "<p>... (192 rows omitted)</p>"
      ],
      "text/plain": [
       "SEX  | AGE  | 2015\n",
       "1    | 0    | 2,035,134\n",
       "1    | 1    | 2,029,295\n",
       "1    | 2    | 2,026,604\n",
       "1    | 3    | 2,030,644\n",
       "1    | 4    | 2,055,924\n",
       "1    | 5    | 2,050,848\n",
       "1    | 6    | 2,050,663\n",
       "1    | 7    | 2,117,118\n",
       "1    | 8    | 2,128,825\n",
       "1    | 9    | 2,111,678\n",
       "... (192 rows omitted)"
      ]
     },
     "execution_count": 40,
     "metadata": {},
     "output_type": "execute_result"
    }
   ],
   "source": [
    "us_pop_2015 = us_pop.drop('2010').where('AGE', are.below(999)).where('SEX',are.above(0))\n",
    "us_pop_2015"
   ]
  },
  {
   "cell_type": "code",
   "execution_count": 41,
   "metadata": {},
   "outputs": [
    {
     "data": {
      "text/plain": [
       "321418820"
      ]
     },
     "execution_count": 41,
     "metadata": {},
     "output_type": "execute_result"
    }
   ],
   "source": [
    "sum(us_pop_2015.column('2015'))"
   ]
  },
  {
   "cell_type": "code",
   "execution_count": 47,
   "metadata": {},
   "outputs": [
    {
     "data": {
      "text/html": [
       "<table border=\"1\" class=\"dataframe\">\n",
       "    <thead>\n",
       "        <tr>\n",
       "            <th>AGE</th> <th>Females</th> <th>Males</th>\n",
       "        </tr>\n",
       "    </thead>\n",
       "    <tbody>\n",
       "        <tr>\n",
       "            <td>0   </td> <td>1,942,904</td> <td>2,035,134</td>\n",
       "        </tr>\n",
       "        <tr>\n",
       "            <td>1   </td> <td>1,939,269</td> <td>2,029,295</td>\n",
       "        </tr>\n",
       "        <tr>\n",
       "            <td>2   </td> <td>1,939,979</td> <td>2,026,604</td>\n",
       "        </tr>\n",
       "        <tr>\n",
       "            <td>3   </td> <td>1,943,417</td> <td>2,030,644</td>\n",
       "        </tr>\n",
       "        <tr>\n",
       "            <td>4   </td> <td>1,964,111</td> <td>2,055,924</td>\n",
       "        </tr>\n",
       "        <tr>\n",
       "            <td>5   </td> <td>1,967,310</td> <td>2,050,848</td>\n",
       "        </tr>\n",
       "        <tr>\n",
       "            <td>6   </td> <td>1,968,544</td> <td>2,050,663</td>\n",
       "        </tr>\n",
       "        <tr>\n",
       "            <td>7   </td> <td>2,031,242</td> <td>2,117,118</td>\n",
       "        </tr>\n",
       "        <tr>\n",
       "            <td>8   </td> <td>2,039,062</td> <td>2,128,825</td>\n",
       "        </tr>\n",
       "        <tr>\n",
       "            <td>9   </td> <td>2,021,886</td> <td>2,111,678</td>\n",
       "        </tr>\n",
       "    </tbody>\n",
       "</table>\n",
       "<p>... (91 rows omitted)</p>"
      ],
      "text/plain": [
       "AGE  | Females   | Males\n",
       "0    | 1,942,904 | 2,035,134\n",
       "1    | 1,939,269 | 2,029,295\n",
       "2    | 1,939,979 | 2,026,604\n",
       "3    | 1,943,417 | 2,030,644\n",
       "4    | 1,964,111 | 2,055,924\n",
       "5    | 1,967,310 | 2,050,848\n",
       "6    | 1,968,544 | 2,050,663\n",
       "7    | 2,031,242 | 2,117,118\n",
       "8    | 2,039,062 | 2,128,825\n",
       "9    | 2,021,886 | 2,111,678\n",
       "... (91 rows omitted)"
      ]
     },
     "execution_count": 47,
     "metadata": {},
     "output_type": "execute_result"
    }
   ],
   "source": [
    "males = us_pop_2015.where('SEX', 1).column('2015')\n",
    "by_sex = us_pop_2015.where('SEX', 2).drop('SEX').relabeled('2015','Females').with_column(\n",
    "'Males', males\n",
    ")\n",
    "by_sex = by_sex.set_format(2, NumberFormatter)\n",
    "by_sex"
   ]
  },
  {
   "cell_type": "code",
   "execution_count": 48,
   "metadata": {},
   "outputs": [
    {
     "data": {
      "text/plain": [
       "1.047470178660397"
      ]
     },
     "execution_count": 48,
     "metadata": {},
     "output_type": "execute_result"
    }
   ],
   "source": [
    "by_sex.row(0).item('Males')/ by_sex.row(0).item('Females')"
   ]
  },
  {
   "cell_type": "code",
   "execution_count": 49,
   "metadata": {},
   "outputs": [
    {
     "data": {
      "image/png": "[encoded data removed]",
      "text/plain": [
       "<Figure size 432x288 with 1 Axes>"
      ]
     },
     "metadata": {},
     "output_type": "display_data"
    }
   ],
   "source": [
    "by_sex.plot(0)"
   ]
  },
  {
   "cell_type": "code",
   "execution_count": null,
   "metadata": {},
   "outputs": [],
   "source": []
  }
 ],
 "metadata": {
  "kernelspec": {
   "display_name": "Python 3",
   "language": "python",
   "name": "python3"
  },
  "language_info": {
   "codemirror_mode": {
    "name": "ipython",
    "version": 3
   },
   "file_extension": ".py",
   "mimetype": "text/x-python",
   "name": "python",
   "nbconvert_exporter": "python",
   "pygments_lexer": "ipython3",
   "version": "3.7.6"
  }
 },
 "nbformat": 4,
 "nbformat_minor": 4
}
