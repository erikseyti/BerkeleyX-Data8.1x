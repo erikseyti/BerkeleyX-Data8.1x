{
 "cells": [
  {
   "cell_type": "code",
   "execution_count": 1,
   "metadata": {},
   "outputs": [],
   "source": [
    "from datascience import *\n",
    "import numpy as np\n",
    "%matplotlib inline\n",
    "import matplotlib.pyplot as plots\n",
    "plots.style.use('fivethirtyeight')"
   ]
  },
  {
   "cell_type": "code",
   "execution_count": 2,
   "metadata": {},
   "outputs": [],
   "source": [
    "nba = Table.read_table('nba_salaries.csv')"
   ]
  },
  {
   "cell_type": "code",
   "execution_count": 3,
   "metadata": {},
   "outputs": [
    {
     "data": {
      "text/html": [
       "<table border=\"1\" class=\"dataframe\">\n",
       "    <thead>\n",
       "        <tr>\n",
       "            <th>PLAYER</th> <th>POSITION</th> <th>TEAM</th> <th>2015-2016 SALARY</th>\n",
       "        </tr>\n",
       "    </thead>\n",
       "    <tbody>\n",
       "        <tr>\n",
       "            <td>Paul Millsap    </td> <td>PF      </td> <td>Atlanta Hawks</td> <td>18.6717         </td>\n",
       "        </tr>\n",
       "        <tr>\n",
       "            <td>Al Horford      </td> <td>C       </td> <td>Atlanta Hawks</td> <td>12              </td>\n",
       "        </tr>\n",
       "        <tr>\n",
       "            <td>Tiago Splitter  </td> <td>C       </td> <td>Atlanta Hawks</td> <td>9.75625         </td>\n",
       "        </tr>\n",
       "        <tr>\n",
       "            <td>Jeff Teague     </td> <td>PG      </td> <td>Atlanta Hawks</td> <td>8               </td>\n",
       "        </tr>\n",
       "        <tr>\n",
       "            <td>Kyle Korver     </td> <td>SG      </td> <td>Atlanta Hawks</td> <td>5.74648         </td>\n",
       "        </tr>\n",
       "        <tr>\n",
       "            <td>Thabo Sefolosha </td> <td>SF      </td> <td>Atlanta Hawks</td> <td>4               </td>\n",
       "        </tr>\n",
       "        <tr>\n",
       "            <td>Mike Scott      </td> <td>PF      </td> <td>Atlanta Hawks</td> <td>3.33333         </td>\n",
       "        </tr>\n",
       "        <tr>\n",
       "            <td>Kent Bazemore   </td> <td>SF      </td> <td>Atlanta Hawks</td> <td>2               </td>\n",
       "        </tr>\n",
       "        <tr>\n",
       "            <td>Dennis Schroder </td> <td>PG      </td> <td>Atlanta Hawks</td> <td>1.7634          </td>\n",
       "        </tr>\n",
       "        <tr>\n",
       "            <td>Tim Hardaway Jr.</td> <td>SG      </td> <td>Atlanta Hawks</td> <td>1.30452         </td>\n",
       "        </tr>\n",
       "    </tbody>\n",
       "</table>\n",
       "<p>... (407 rows omitted)</p>"
      ],
      "text/plain": [
       "PLAYER           | POSITION | TEAM          | 2015-2016 SALARY\n",
       "Paul Millsap     | PF       | Atlanta Hawks | 18.6717\n",
       "Al Horford       | C        | Atlanta Hawks | 12\n",
       "Tiago Splitter   | C        | Atlanta Hawks | 9.75625\n",
       "Jeff Teague      | PG       | Atlanta Hawks | 8\n",
       "Kyle Korver      | SG       | Atlanta Hawks | 5.74648\n",
       "Thabo Sefolosha  | SF       | Atlanta Hawks | 4\n",
       "Mike Scott       | PF       | Atlanta Hawks | 3.33333\n",
       "Kent Bazemore    | SF       | Atlanta Hawks | 2\n",
       "Dennis Schroder  | PG       | Atlanta Hawks | 1.7634\n",
       "Tim Hardaway Jr. | SG       | Atlanta Hawks | 1.30452\n",
       "... (407 rows omitted)"
      ]
     },
     "execution_count": 3,
     "metadata": {},
     "output_type": "execute_result"
    }
   ],
   "source": [
    "nba"
   ]
  },
  {
   "cell_type": "code",
   "execution_count": 4,
   "metadata": {},
   "outputs": [
    {
     "data": {
      "text/html": [
       "<table border=\"1\" class=\"dataframe\">\n",
       "    <thead>\n",
       "        <tr>\n",
       "            <th>PLAYER</th> <th>POSITION</th> <th>TEAM</th> <th>2015-2016 SALARY</th>\n",
       "        </tr>\n",
       "    </thead>\n",
       "    <tbody>\n",
       "        <tr>\n",
       "            <td>Kobe Bryant    </td> <td>SF      </td> <td>Los Angeles Lakers   </td> <td>25              </td>\n",
       "        </tr>\n",
       "        <tr>\n",
       "            <td>Joe Johnson    </td> <td>SF      </td> <td>Brooklyn Nets        </td> <td>24.8949         </td>\n",
       "        </tr>\n",
       "        <tr>\n",
       "            <td>LeBron James   </td> <td>SF      </td> <td>Cleveland Cavaliers  </td> <td>22.9705         </td>\n",
       "        </tr>\n",
       "        <tr>\n",
       "            <td>Carmelo Anthony</td> <td>SF      </td> <td>New York Knicks      </td> <td>22.875          </td>\n",
       "        </tr>\n",
       "        <tr>\n",
       "            <td>Dwight Howard  </td> <td>C       </td> <td>Houston Rockets      </td> <td>22.3594         </td>\n",
       "        </tr>\n",
       "        <tr>\n",
       "            <td>Chris Bosh     </td> <td>PF      </td> <td>Miami Heat           </td> <td>22.1927         </td>\n",
       "        </tr>\n",
       "        <tr>\n",
       "            <td>Chris Paul     </td> <td>PG      </td> <td>Los Angeles Clippers </td> <td>21.4687         </td>\n",
       "        </tr>\n",
       "        <tr>\n",
       "            <td>Kevin Durant   </td> <td>SF      </td> <td>Oklahoma City Thunder</td> <td>20.1586         </td>\n",
       "        </tr>\n",
       "        <tr>\n",
       "            <td>Derrick Rose   </td> <td>PG      </td> <td>Chicago Bulls        </td> <td>20.0931         </td>\n",
       "        </tr>\n",
       "        <tr>\n",
       "            <td>Dwyane Wade    </td> <td>SG      </td> <td>Miami Heat           </td> <td>20              </td>\n",
       "        </tr>\n",
       "    </tbody>\n",
       "</table>\n",
       "<p>... (407 rows omitted)</p>"
      ],
      "text/plain": [
       "PLAYER          | POSITION | TEAM                  | 2015-2016 SALARY\n",
       "Kobe Bryant     | SF       | Los Angeles Lakers    | 25\n",
       "Joe Johnson     | SF       | Brooklyn Nets         | 24.8949\n",
       "LeBron James    | SF       | Cleveland Cavaliers   | 22.9705\n",
       "Carmelo Anthony | SF       | New York Knicks       | 22.875\n",
       "Dwight Howard   | C        | Houston Rockets       | 22.3594\n",
       "Chris Bosh      | PF       | Miami Heat            | 22.1927\n",
       "Chris Paul      | PG       | Los Angeles Clippers  | 21.4687\n",
       "Kevin Durant    | SF       | Oklahoma City Thunder | 20.1586\n",
       "Derrick Rose    | PG       | Chicago Bulls         | 20.0931\n",
       "Dwyane Wade     | SG       | Miami Heat            | 20\n",
       "... (407 rows omitted)"
      ]
     },
     "execution_count": 4,
     "metadata": {},
     "output_type": "execute_result"
    }
   ],
   "source": [
    "nba.sort(3,descending=True)"
   ]
  },
  {
   "cell_type": "code",
   "execution_count": 9,
   "metadata": {},
   "outputs": [
    {
     "data": {
      "text/html": [
       "<table border=\"1\" class=\"dataframe\">\n",
       "    <thead>\n",
       "        <tr>\n",
       "            <th>PLAYER</th> <th>POSITION</th> <th>TEAM</th> <th>SALARY</th>\n",
       "        </tr>\n",
       "    </thead>\n",
       "    <tbody>\n",
       "        <tr>\n",
       "            <td>Paul Millsap    </td> <td>PF      </td> <td>Atlanta Hawks</td> <td>18.6717</td>\n",
       "        </tr>\n",
       "        <tr>\n",
       "            <td>Al Horford      </td> <td>C       </td> <td>Atlanta Hawks</td> <td>12     </td>\n",
       "        </tr>\n",
       "        <tr>\n",
       "            <td>Tiago Splitter  </td> <td>C       </td> <td>Atlanta Hawks</td> <td>9.75625</td>\n",
       "        </tr>\n",
       "        <tr>\n",
       "            <td>Jeff Teague     </td> <td>PG      </td> <td>Atlanta Hawks</td> <td>8      </td>\n",
       "        </tr>\n",
       "        <tr>\n",
       "            <td>Kyle Korver     </td> <td>SG      </td> <td>Atlanta Hawks</td> <td>5.74648</td>\n",
       "        </tr>\n",
       "        <tr>\n",
       "            <td>Thabo Sefolosha </td> <td>SF      </td> <td>Atlanta Hawks</td> <td>4      </td>\n",
       "        </tr>\n",
       "        <tr>\n",
       "            <td>Mike Scott      </td> <td>PF      </td> <td>Atlanta Hawks</td> <td>3.33333</td>\n",
       "        </tr>\n",
       "        <tr>\n",
       "            <td>Kent Bazemore   </td> <td>SF      </td> <td>Atlanta Hawks</td> <td>2      </td>\n",
       "        </tr>\n",
       "        <tr>\n",
       "            <td>Dennis Schroder </td> <td>PG      </td> <td>Atlanta Hawks</td> <td>1.7634 </td>\n",
       "        </tr>\n",
       "        <tr>\n",
       "            <td>Tim Hardaway Jr.</td> <td>SG      </td> <td>Atlanta Hawks</td> <td>1.30452</td>\n",
       "        </tr>\n",
       "    </tbody>\n",
       "</table>\n",
       "<p>... (407 rows omitted)</p>"
      ],
      "text/plain": [
       "PLAYER           | POSITION | TEAM          | SALARY\n",
       "Paul Millsap     | PF       | Atlanta Hawks | 18.6717\n",
       "Al Horford       | C        | Atlanta Hawks | 12\n",
       "Tiago Splitter   | C        | Atlanta Hawks | 9.75625\n",
       "Jeff Teague      | PG       | Atlanta Hawks | 8\n",
       "Kyle Korver      | SG       | Atlanta Hawks | 5.74648\n",
       "Thabo Sefolosha  | SF       | Atlanta Hawks | 4\n",
       "Mike Scott       | PF       | Atlanta Hawks | 3.33333\n",
       "Kent Bazemore    | SF       | Atlanta Hawks | 2\n",
       "Dennis Schroder  | PG       | Atlanta Hawks | 1.7634\n",
       "Tim Hardaway Jr. | SG       | Atlanta Hawks | 1.30452\n",
       "... (407 rows omitted)"
      ]
     },
     "execution_count": 9,
     "metadata": {},
     "output_type": "execute_result"
    }
   ],
   "source": [
    "nba = nba.relabeled(3,\"SALARY\")\n",
    "nba"
   ]
  },
  {
   "cell_type": "code",
   "execution_count": 10,
   "metadata": {},
   "outputs": [
    {
     "data": {
      "text/html": [
       "<table border=\"1\" class=\"dataframe\">\n",
       "    <thead>\n",
       "        <tr>\n",
       "            <th>PLAYER</th> <th>POSITION</th> <th>TEAM</th> <th>SALARY</th>\n",
       "        </tr>\n",
       "    </thead>\n",
       "    <tbody>\n",
       "        <tr>\n",
       "            <td>Paul Millsap  </td> <td>PF      </td> <td>Atlanta Hawks    </td> <td>18.6717</td>\n",
       "        </tr>\n",
       "        <tr>\n",
       "            <td>Al Horford    </td> <td>C       </td> <td>Atlanta Hawks    </td> <td>12     </td>\n",
       "        </tr>\n",
       "        <tr>\n",
       "            <td>Joe Johnson   </td> <td>SF      </td> <td>Brooklyn Nets    </td> <td>24.8949</td>\n",
       "        </tr>\n",
       "        <tr>\n",
       "            <td>Thaddeus Young</td> <td>PF      </td> <td>Brooklyn Nets    </td> <td>11.236 </td>\n",
       "        </tr>\n",
       "        <tr>\n",
       "            <td>Al Jefferson  </td> <td>C       </td> <td>Charlotte Hornets</td> <td>13.5   </td>\n",
       "        </tr>\n",
       "        <tr>\n",
       "            <td>Nicolas Batum </td> <td>SG      </td> <td>Charlotte Hornets</td> <td>13.1253</td>\n",
       "        </tr>\n",
       "        <tr>\n",
       "            <td>Kemba Walker  </td> <td>PG      </td> <td>Charlotte Hornets</td> <td>12     </td>\n",
       "        </tr>\n",
       "        <tr>\n",
       "            <td>Derrick Rose  </td> <td>PG      </td> <td>Chicago Bulls    </td> <td>20.0931</td>\n",
       "        </tr>\n",
       "        <tr>\n",
       "            <td>Jimmy Butler  </td> <td>SG      </td> <td>Chicago Bulls    </td> <td>16.4075</td>\n",
       "        </tr>\n",
       "        <tr>\n",
       "            <td>Joakim Noah   </td> <td>C       </td> <td>Chicago Bulls    </td> <td>13.4   </td>\n",
       "        </tr>\n",
       "    </tbody>\n",
       "</table>\n",
       "<p>... (59 rows omitted)</p>"
      ],
      "text/plain": [
       "PLAYER         | POSITION | TEAM              | SALARY\n",
       "Paul Millsap   | PF       | Atlanta Hawks     | 18.6717\n",
       "Al Horford     | C        | Atlanta Hawks     | 12\n",
       "Joe Johnson    | SF       | Brooklyn Nets     | 24.8949\n",
       "Thaddeus Young | PF       | Brooklyn Nets     | 11.236\n",
       "Al Jefferson   | C        | Charlotte Hornets | 13.5\n",
       "Nicolas Batum  | SG       | Charlotte Hornets | 13.1253\n",
       "Kemba Walker   | PG       | Charlotte Hornets | 12\n",
       "Derrick Rose   | PG       | Chicago Bulls     | 20.0931\n",
       "Jimmy Butler   | SG       | Chicago Bulls     | 16.4075\n",
       "Joakim Noah    | C        | Chicago Bulls     | 13.4\n",
       "... (59 rows omitted)"
      ]
     },
     "execution_count": 10,
     "metadata": {},
     "output_type": "execute_result"
    }
   ],
   "source": [
    "nba.where(\"SALARY\", are.above(10))"
   ]
  },
  {
   "cell_type": "code",
   "execution_count": 12,
   "metadata": {},
   "outputs": [
    {
     "data": {
      "text/html": [
       "<table border=\"1\" class=\"dataframe\">\n",
       "    <thead>\n",
       "        <tr>\n",
       "            <th>PLAYER</th> <th>POSITION</th> <th>TEAM</th> <th>SALARY</th>\n",
       "        </tr>\n",
       "    </thead>\n",
       "    <tbody>\n",
       "        <tr>\n",
       "            <td>DeMar DeRozan  </td> <td>SG      </td> <td>Toronto Raptors     </td> <td>10.05  </td>\n",
       "        </tr>\n",
       "        <tr>\n",
       "            <td>Gerald Wallace </td> <td>SF      </td> <td>Philadelphia 76ers  </td> <td>10.1059</td>\n",
       "        </tr>\n",
       "        <tr>\n",
       "            <td>Luol Deng      </td> <td>SF      </td> <td>Miami Heat          </td> <td>10.1516</td>\n",
       "        </tr>\n",
       "        <tr>\n",
       "            <td>Monta Ellis    </td> <td>SG      </td> <td>Indiana Pacers      </td> <td>10.3   </td>\n",
       "        </tr>\n",
       "        <tr>\n",
       "            <td>Wilson Chandler</td> <td>SF      </td> <td>Denver Nuggets      </td> <td>10.4494</td>\n",
       "        </tr>\n",
       "        <tr>\n",
       "            <td>Brendan Haywood</td> <td>C       </td> <td>Cleveland Cavaliers </td> <td>10.5225</td>\n",
       "        </tr>\n",
       "        <tr>\n",
       "            <td>Jrue Holiday   </td> <td>PG      </td> <td>New Orleans Pelicans</td> <td>10.5955</td>\n",
       "        </tr>\n",
       "        <tr>\n",
       "            <td>Tyreke Evans   </td> <td>SG      </td> <td>New Orleans Pelicans</td> <td>10.7346</td>\n",
       "        </tr>\n",
       "        <tr>\n",
       "            <td>Marcin Gortat  </td> <td>C       </td> <td>Washington Wizards  </td> <td>11.2174</td>\n",
       "        </tr>\n",
       "        <tr>\n",
       "            <td>Thaddeus Young </td> <td>PF      </td> <td>Brooklyn Nets       </td> <td>11.236 </td>\n",
       "        </tr>\n",
       "    </tbody>\n",
       "</table>\n",
       "<p>... (59 rows omitted)</p>"
      ],
      "text/plain": [
       "PLAYER          | POSITION | TEAM                 | SALARY\n",
       "DeMar DeRozan   | SG       | Toronto Raptors      | 10.05\n",
       "Gerald Wallace  | SF       | Philadelphia 76ers   | 10.1059\n",
       "Luol Deng       | SF       | Miami Heat           | 10.1516\n",
       "Monta Ellis     | SG       | Indiana Pacers       | 10.3\n",
       "Wilson Chandler | SF       | Denver Nuggets       | 10.4494\n",
       "Brendan Haywood | C        | Cleveland Cavaliers  | 10.5225\n",
       "Jrue Holiday    | PG       | New Orleans Pelicans | 10.5955\n",
       "Tyreke Evans    | SG       | New Orleans Pelicans | 10.7346\n",
       "Marcin Gortat   | C        | Washington Wizards   | 11.2174\n",
       "Thaddeus Young  | PF       | Brooklyn Nets        | 11.236\n",
       "... (59 rows omitted)"
      ]
     },
     "execution_count": 12,
     "metadata": {},
     "output_type": "execute_result"
    }
   ],
   "source": [
    "nba.where(\"SALARY\", are.above(10)).sort(\"SALARY\")"
   ]
  },
  {
   "cell_type": "code",
   "execution_count": 13,
   "metadata": {},
   "outputs": [
    {
     "data": {
      "text/html": [
       "<table border=\"1\" class=\"dataframe\">\n",
       "    <thead>\n",
       "        <tr>\n",
       "            <th>PLAYER</th> <th>POSITION</th> <th>TEAM</th> <th>SALARY</th>\n",
       "        </tr>\n",
       "    </thead>\n",
       "    <tbody>\n",
       "        <tr>\n",
       "            <td>Danny Green    </td> <td>SG      </td> <td>San Antonio Spurs   </td> <td>10     </td>\n",
       "        </tr>\n",
       "        <tr>\n",
       "            <td>DeMar DeRozan  </td> <td>SG      </td> <td>Toronto Raptors     </td> <td>10.05  </td>\n",
       "        </tr>\n",
       "        <tr>\n",
       "            <td>Gerald Wallace </td> <td>SF      </td> <td>Philadelphia 76ers  </td> <td>10.1059</td>\n",
       "        </tr>\n",
       "        <tr>\n",
       "            <td>Luol Deng      </td> <td>SF      </td> <td>Miami Heat          </td> <td>10.1516</td>\n",
       "        </tr>\n",
       "        <tr>\n",
       "            <td>Monta Ellis    </td> <td>SG      </td> <td>Indiana Pacers      </td> <td>10.3   </td>\n",
       "        </tr>\n",
       "        <tr>\n",
       "            <td>Wilson Chandler</td> <td>SF      </td> <td>Denver Nuggets      </td> <td>10.4494</td>\n",
       "        </tr>\n",
       "        <tr>\n",
       "            <td>Brendan Haywood</td> <td>C       </td> <td>Cleveland Cavaliers </td> <td>10.5225</td>\n",
       "        </tr>\n",
       "        <tr>\n",
       "            <td>Jrue Holiday   </td> <td>PG      </td> <td>New Orleans Pelicans</td> <td>10.5955</td>\n",
       "        </tr>\n",
       "        <tr>\n",
       "            <td>Tyreke Evans   </td> <td>SG      </td> <td>New Orleans Pelicans</td> <td>10.7346</td>\n",
       "        </tr>\n",
       "        <tr>\n",
       "            <td>Marcin Gortat  </td> <td>C       </td> <td>Washington Wizards  </td> <td>11.2174</td>\n",
       "        </tr>\n",
       "    </tbody>\n",
       "</table>\n",
       "<p>... (29 rows omitted)</p>"
      ],
      "text/plain": [
       "PLAYER          | POSITION | TEAM                 | SALARY\n",
       "Danny Green     | SG       | San Antonio Spurs    | 10\n",
       "DeMar DeRozan   | SG       | Toronto Raptors      | 10.05\n",
       "Gerald Wallace  | SF       | Philadelphia 76ers   | 10.1059\n",
       "Luol Deng       | SF       | Miami Heat           | 10.1516\n",
       "Monta Ellis     | SG       | Indiana Pacers       | 10.3\n",
       "Wilson Chandler | SF       | Denver Nuggets       | 10.4494\n",
       "Brendan Haywood | C        | Cleveland Cavaliers  | 10.5225\n",
       "Jrue Holiday    | PG       | New Orleans Pelicans | 10.5955\n",
       "Tyreke Evans    | SG       | New Orleans Pelicans | 10.7346\n",
       "Marcin Gortat   | C        | Washington Wizards   | 11.2174\n",
       "... (29 rows omitted)"
      ]
     },
     "execution_count": 13,
     "metadata": {},
     "output_type": "execute_result"
    }
   ],
   "source": [
    "nba.where(\"SALARY\", are.between(10,15)).sort(\"SALARY\")"
   ]
  },
  {
   "cell_type": "code",
   "execution_count": 15,
   "metadata": {},
   "outputs": [
    {
     "data": {
      "text/html": [
       "<table border=\"1\" class=\"dataframe\">\n",
       "    <thead>\n",
       "        <tr>\n",
       "            <th>PLAYER</th> <th>POSITION</th> <th>TEAM</th> <th>SALARY</th>\n",
       "        </tr>\n",
       "    </thead>\n",
       "    <tbody>\n",
       "        <tr>\n",
       "            <td>LaMarcus Aldridge</td> <td>PF      </td> <td>San Antonio Spurs</td> <td>19.689 </td>\n",
       "        </tr>\n",
       "        <tr>\n",
       "            <td>Kawhi Leonard    </td> <td>SF      </td> <td>San Antonio Spurs</td> <td>16.4075</td>\n",
       "        </tr>\n",
       "        <tr>\n",
       "            <td>Tony Parker      </td> <td>PG      </td> <td>San Antonio Spurs</td> <td>13.4375</td>\n",
       "        </tr>\n",
       "        <tr>\n",
       "            <td>Danny Green      </td> <td>SG      </td> <td>San Antonio Spurs</td> <td>10     </td>\n",
       "        </tr>\n",
       "        <tr>\n",
       "            <td>Boris Diaw       </td> <td>C       </td> <td>San Antonio Spurs</td> <td>7.5    </td>\n",
       "        </tr>\n",
       "        <tr>\n",
       "            <td>Tim Duncan       </td> <td>C       </td> <td>San Antonio Spurs</td> <td>5.25   </td>\n",
       "        </tr>\n",
       "        <tr>\n",
       "            <td>Patty Mills      </td> <td>PG      </td> <td>San Antonio Spurs</td> <td>3.57895</td>\n",
       "        </tr>\n",
       "        <tr>\n",
       "            <td>Manu Ginobili    </td> <td>SG      </td> <td>San Antonio Spurs</td> <td>2.814  </td>\n",
       "        </tr>\n",
       "        <tr>\n",
       "            <td>David West       </td> <td>PF      </td> <td>San Antonio Spurs</td> <td>1.49919</td>\n",
       "        </tr>\n",
       "        <tr>\n",
       "            <td>Boban Marjanovic </td> <td>C       </td> <td>San Antonio Spurs</td> <td>1.2    </td>\n",
       "        </tr>\n",
       "    </tbody>\n",
       "</table>\n",
       "<p>... (3 rows omitted)</p>"
      ],
      "text/plain": [
       "PLAYER            | POSITION | TEAM              | SALARY\n",
       "LaMarcus Aldridge | PF       | San Antonio Spurs | 19.689\n",
       "Kawhi Leonard     | SF       | San Antonio Spurs | 16.4075\n",
       "Tony Parker       | PG       | San Antonio Spurs | 13.4375\n",
       "Danny Green       | SG       | San Antonio Spurs | 10\n",
       "Boris Diaw        | C        | San Antonio Spurs | 7.5\n",
       "Tim Duncan        | C        | San Antonio Spurs | 5.25\n",
       "Patty Mills       | PG       | San Antonio Spurs | 3.57895\n",
       "Manu Ginobili     | SG       | San Antonio Spurs | 2.814\n",
       "David West        | PF       | San Antonio Spurs | 1.49919\n",
       "Boban Marjanovic  | C        | San Antonio Spurs | 1.2\n",
       "... (3 rows omitted)"
      ]
     },
     "execution_count": 15,
     "metadata": {},
     "output_type": "execute_result"
    }
   ],
   "source": [
    "sanAntonioSpurs = nba.where(\"TEAM\", are.equal_to('San Antonio Spurs'))\n",
    "sanAntonioSpurs"
   ]
  },
  {
   "cell_type": "code",
   "execution_count": 16,
   "metadata": {},
   "outputs": [
    {
     "data": {
      "text/plain": [
       "13"
      ]
     },
     "execution_count": 16,
     "metadata": {},
     "output_type": "execute_result"
    }
   ],
   "source": [
    "sanAntonioSpurs.num_rows"
   ]
  },
  {
   "cell_type": "code",
   "execution_count": 17,
   "metadata": {},
   "outputs": [
    {
     "data": {
      "text/html": [
       "<table border=\"1\" class=\"dataframe\">\n",
       "    <thead>\n",
       "        <tr>\n",
       "            <th>PLAYER</th> <th>POSITION</th> <th>TEAM</th> <th>SALARY</th>\n",
       "        </tr>\n",
       "    </thead>\n",
       "    <tbody>\n",
       "        <tr>\n",
       "            <td>LaMarcus Aldridge</td> <td>PF      </td> <td>San Antonio Spurs</td> <td>19.689  </td>\n",
       "        </tr>\n",
       "        <tr>\n",
       "            <td>Kawhi Leonard    </td> <td>SF      </td> <td>San Antonio Spurs</td> <td>16.4075 </td>\n",
       "        </tr>\n",
       "        <tr>\n",
       "            <td>Tony Parker      </td> <td>PG      </td> <td>San Antonio Spurs</td> <td>13.4375 </td>\n",
       "        </tr>\n",
       "        <tr>\n",
       "            <td>Danny Green      </td> <td>SG      </td> <td>San Antonio Spurs</td> <td>10      </td>\n",
       "        </tr>\n",
       "        <tr>\n",
       "            <td>Boris Diaw       </td> <td>C       </td> <td>San Antonio Spurs</td> <td>7.5     </td>\n",
       "        </tr>\n",
       "        <tr>\n",
       "            <td>Tim Duncan       </td> <td>C       </td> <td>San Antonio Spurs</td> <td>5.25    </td>\n",
       "        </tr>\n",
       "        <tr>\n",
       "            <td>Patty Mills      </td> <td>PG      </td> <td>San Antonio Spurs</td> <td>3.57895 </td>\n",
       "        </tr>\n",
       "        <tr>\n",
       "            <td>Manu Ginobili    </td> <td>SG      </td> <td>San Antonio Spurs</td> <td>2.814   </td>\n",
       "        </tr>\n",
       "        <tr>\n",
       "            <td>David West       </td> <td>PF      </td> <td>San Antonio Spurs</td> <td>1.49919 </td>\n",
       "        </tr>\n",
       "        <tr>\n",
       "            <td>Boban Marjanovic </td> <td>C       </td> <td>San Antonio Spurs</td> <td>1.2     </td>\n",
       "        </tr>\n",
       "        <tr>\n",
       "            <td>Reggie Williams  </td> <td>SF      </td> <td>San Antonio Spurs</td> <td>1.18578 </td>\n",
       "        </tr>\n",
       "        <tr>\n",
       "            <td>Kyle Anderson    </td> <td>SF      </td> <td>San Antonio Spurs</td> <td>1.14288 </td>\n",
       "        </tr>\n",
       "        <tr>\n",
       "            <td>Ray McCallum     </td> <td>PG      </td> <td>San Antonio Spurs</td> <td>0.947276</td>\n",
       "        </tr>\n",
       "    </tbody>\n",
       "</table>"
      ],
      "text/plain": [
       "<IPython.core.display.HTML object>"
      ]
     },
     "metadata": {},
     "output_type": "display_data"
    }
   ],
   "source": [
    "sanAntonioSpurs.show()"
   ]
  },
  {
   "cell_type": "code",
   "execution_count": 19,
   "metadata": {},
   "outputs": [
    {
     "data": {
      "text/html": [
       "<table border=\"1\" class=\"dataframe\">\n",
       "    <thead>\n",
       "        <tr>\n",
       "            <th>PLAYER</th> <th>POSITION</th> <th>TEAM</th> <th>SALARY</th>\n",
       "        </tr>\n",
       "    </thead>\n",
       "    <tbody>\n",
       "        <tr>\n",
       "            <td>LaMarcus Aldridge</td> <td>PF      </td> <td>San Antonio Spurs</td> <td>19.689  </td>\n",
       "        </tr>\n",
       "        <tr>\n",
       "            <td>Kawhi Leonard    </td> <td>SF      </td> <td>San Antonio Spurs</td> <td>16.4075 </td>\n",
       "        </tr>\n",
       "        <tr>\n",
       "            <td>Tony Parker      </td> <td>PG      </td> <td>San Antonio Spurs</td> <td>13.4375 </td>\n",
       "        </tr>\n",
       "        <tr>\n",
       "            <td>Danny Green      </td> <td>SG      </td> <td>San Antonio Spurs</td> <td>10      </td>\n",
       "        </tr>\n",
       "        <tr>\n",
       "            <td>Boris Diaw       </td> <td>C       </td> <td>San Antonio Spurs</td> <td>7.5     </td>\n",
       "        </tr>\n",
       "        <tr>\n",
       "            <td>Tim Duncan       </td> <td>C       </td> <td>San Antonio Spurs</td> <td>5.25    </td>\n",
       "        </tr>\n",
       "        <tr>\n",
       "            <td>Patty Mills      </td> <td>PG      </td> <td>San Antonio Spurs</td> <td>3.57895 </td>\n",
       "        </tr>\n",
       "        <tr>\n",
       "            <td>Manu Ginobili    </td> <td>SG      </td> <td>San Antonio Spurs</td> <td>2.814   </td>\n",
       "        </tr>\n",
       "        <tr>\n",
       "            <td>David West       </td> <td>PF      </td> <td>San Antonio Spurs</td> <td>1.49919 </td>\n",
       "        </tr>\n",
       "        <tr>\n",
       "            <td>Boban Marjanovic </td> <td>C       </td> <td>San Antonio Spurs</td> <td>1.2     </td>\n",
       "        </tr>\n",
       "        <tr>\n",
       "            <td>Reggie Williams  </td> <td>SF      </td> <td>San Antonio Spurs</td> <td>1.18578 </td>\n",
       "        </tr>\n",
       "        <tr>\n",
       "            <td>Kyle Anderson    </td> <td>SF      </td> <td>San Antonio Spurs</td> <td>1.14288 </td>\n",
       "        </tr>\n",
       "        <tr>\n",
       "            <td>Ray McCallum     </td> <td>PG      </td> <td>San Antonio Spurs</td> <td>0.947276</td>\n",
       "        </tr>\n",
       "    </tbody>\n",
       "</table>"
      ],
      "text/plain": [
       "<IPython.core.display.HTML object>"
      ]
     },
     "metadata": {},
     "output_type": "display_data"
    }
   ],
   "source": [
    "sanAntonioSpurs.sort(\"SALARY\",descending=True).show()"
   ]
  },
  {
   "cell_type": "code",
   "execution_count": 20,
   "metadata": {},
   "outputs": [
    {
     "data": {
      "text/html": [
       "<table border=\"1\" class=\"dataframe\">\n",
       "    <thead>\n",
       "        <tr>\n",
       "            <th>PLAYER</th> <th>POSITION</th> <th>TEAM</th> <th>SALARY</th>\n",
       "        </tr>\n",
       "    </thead>\n",
       "    <tbody>\n",
       "        <tr>\n",
       "            <td>John Wall      </td> <td>PG      </td> <td>Washington Wizards</td> <td>15.852 </td>\n",
       "        </tr>\n",
       "        <tr>\n",
       "            <td>Nene Hilario   </td> <td>C       </td> <td>Washington Wizards</td> <td>13     </td>\n",
       "        </tr>\n",
       "        <tr>\n",
       "            <td>Marcin Gortat  </td> <td>C       </td> <td>Washington Wizards</td> <td>11.2174</td>\n",
       "        </tr>\n",
       "        <tr>\n",
       "            <td>Markieff Morris</td> <td>PF      </td> <td>Washington Wizards</td> <td>8      </td>\n",
       "        </tr>\n",
       "        <tr>\n",
       "            <td>Bradley Beal   </td> <td>SG      </td> <td>Washington Wizards</td> <td>5.69467</td>\n",
       "        </tr>\n",
       "        <tr>\n",
       "            <td>Martell Webster</td> <td>SF      </td> <td>Washington Wizards</td> <td>5.6135 </td>\n",
       "        </tr>\n",
       "        <tr>\n",
       "            <td>Otto Porter Jr.</td> <td>SF      </td> <td>Washington Wizards</td> <td>4.66296</td>\n",
       "        </tr>\n",
       "        <tr>\n",
       "            <td>Kris Humphries </td> <td>PF      </td> <td>Washington Wizards</td> <td>4.44   </td>\n",
       "        </tr>\n",
       "        <tr>\n",
       "            <td>Jared Dudley   </td> <td>SF      </td> <td>Washington Wizards</td> <td>4.375  </td>\n",
       "        </tr>\n",
       "        <tr>\n",
       "            <td>Alan Anderson  </td> <td>SG      </td> <td>Washington Wizards</td> <td>4      </td>\n",
       "        </tr>\n",
       "    </tbody>\n",
       "</table>\n",
       "<p>... (7 rows omitted)</p>"
      ],
      "text/plain": [
       "PLAYER          | POSITION | TEAM               | SALARY\n",
       "John Wall       | PG       | Washington Wizards | 15.852\n",
       "Nene Hilario    | C        | Washington Wizards | 13\n",
       "Marcin Gortat   | C        | Washington Wizards | 11.2174\n",
       "Markieff Morris | PF       | Washington Wizards | 8\n",
       "Bradley Beal    | SG       | Washington Wizards | 5.69467\n",
       "Martell Webster | SF       | Washington Wizards | 5.6135\n",
       "Otto Porter Jr. | SF       | Washington Wizards | 4.66296\n",
       "Kris Humphries  | PF       | Washington Wizards | 4.44\n",
       "Jared Dudley    | SF       | Washington Wizards | 4.375\n",
       "Alan Anderson   | SG       | Washington Wizards | 4\n",
       "... (7 rows omitted)"
      ]
     },
     "execution_count": 20,
     "metadata": {},
     "output_type": "execute_result"
    }
   ],
   "source": [
    "nba.where(\"TEAM\",\"Washington Wizards\")"
   ]
  },
  {
   "cell_type": "code",
   "execution_count": 22,
   "metadata": {},
   "outputs": [
    {
     "data": {
      "text/html": [
       "<table border=\"1\" class=\"dataframe\">\n",
       "    <thead>\n",
       "        <tr>\n",
       "            <th>PLAYER</th> <th>POSITION</th> <th>TEAM</th> <th>SALARY</th>\n",
       "        </tr>\n",
       "    </thead>\n",
       "    <tbody>\n",
       "        <tr>\n",
       "            <td>John Wall      </td> <td>PG      </td> <td>Washington Wizards</td> <td>15.852 </td>\n",
       "        </tr>\n",
       "        <tr>\n",
       "            <td>Nene Hilario   </td> <td>C       </td> <td>Washington Wizards</td> <td>13     </td>\n",
       "        </tr>\n",
       "        <tr>\n",
       "            <td>Marcin Gortat  </td> <td>C       </td> <td>Washington Wizards</td> <td>11.2174</td>\n",
       "        </tr>\n",
       "        <tr>\n",
       "            <td>Markieff Morris</td> <td>PF      </td> <td>Washington Wizards</td> <td>8      </td>\n",
       "        </tr>\n",
       "        <tr>\n",
       "            <td>Bradley Beal   </td> <td>SG      </td> <td>Washington Wizards</td> <td>5.69467</td>\n",
       "        </tr>\n",
       "        <tr>\n",
       "            <td>Martell Webster</td> <td>SF      </td> <td>Washington Wizards</td> <td>5.6135 </td>\n",
       "        </tr>\n",
       "        <tr>\n",
       "            <td>Otto Porter Jr.</td> <td>SF      </td> <td>Washington Wizards</td> <td>4.66296</td>\n",
       "        </tr>\n",
       "        <tr>\n",
       "            <td>Kris Humphries </td> <td>PF      </td> <td>Washington Wizards</td> <td>4.44   </td>\n",
       "        </tr>\n",
       "        <tr>\n",
       "            <td>Jared Dudley   </td> <td>SF      </td> <td>Washington Wizards</td> <td>4.375  </td>\n",
       "        </tr>\n",
       "        <tr>\n",
       "            <td>Alan Anderson  </td> <td>SG      </td> <td>Washington Wizards</td> <td>4      </td>\n",
       "        </tr>\n",
       "    </tbody>\n",
       "</table>\n",
       "<p>... (7 rows omitted)</p>"
      ],
      "text/plain": [
       "PLAYER          | POSITION | TEAM               | SALARY\n",
       "John Wall       | PG       | Washington Wizards | 15.852\n",
       "Nene Hilario    | C        | Washington Wizards | 13\n",
       "Marcin Gortat   | C        | Washington Wizards | 11.2174\n",
       "Markieff Morris | PF       | Washington Wizards | 8\n",
       "Bradley Beal    | SG       | Washington Wizards | 5.69467\n",
       "Martell Webster | SF       | Washington Wizards | 5.6135\n",
       "Otto Porter Jr. | SF       | Washington Wizards | 4.66296\n",
       "Kris Humphries  | PF       | Washington Wizards | 4.44\n",
       "Jared Dudley    | SF       | Washington Wizards | 4.375\n",
       "Alan Anderson   | SG       | Washington Wizards | 4\n",
       "... (7 rows omitted)"
      ]
     },
     "execution_count": 22,
     "metadata": {},
     "output_type": "execute_result"
    }
   ],
   "source": [
    "nba.where(\"TEAM\",are.containing(\"Wizards\"))"
   ]
  },
  {
   "cell_type": "code",
   "execution_count": 23,
   "metadata": {},
   "outputs": [],
   "source": [
    "# http://data8.org/datascience/predicates.html"
   ]
  },
  {
   "cell_type": "code",
   "execution_count": 24,
   "metadata": {},
   "outputs": [
    {
     "data": {
      "text/html": [
       "<table border=\"1\" class=\"dataframe\">\n",
       "    <thead>\n",
       "        <tr>\n",
       "            <th>PLAYER</th> <th>POSITION</th> <th>TEAM</th> <th>SALARY</th>\n",
       "        </tr>\n",
       "    </thead>\n",
       "    <tbody>\n",
       "        <tr>\n",
       "            <td>Stephen Curry</td> <td>PG      </td> <td>Golden State Warriors</td> <td>11.3708</td>\n",
       "        </tr>\n",
       "    </tbody>\n",
       "</table>"
      ],
      "text/plain": [
       "PLAYER        | POSITION | TEAM                  | SALARY\n",
       "Stephen Curry | PG       | Golden State Warriors | 11.3708"
      ]
     },
     "execution_count": 24,
     "metadata": {},
     "output_type": "execute_result"
    }
   ],
   "source": [
    "nba.where(\"PLAYER\",are.equal_to(\"Stephen Curry\"))"
   ]
  },
  {
   "cell_type": "code",
   "execution_count": null,
   "metadata": {},
   "outputs": [],
   "source": []
  }
 ],
 "metadata": {
  "kernelspec": {
   "display_name": "Python 3",
   "language": "python",
   "name": "python3"
  },
  "language_info": {
   "codemirror_mode": {
    "name": "ipython",
    "version": 3
   },
   "file_extension": ".py",
   "mimetype": "text/x-python",
   "name": "python",
   "nbconvert_exporter": "python",
   "pygments_lexer": "ipython3",
   "version": "3.7.6"
  }
 },
 "nbformat": 4,
 "nbformat_minor": 4
}
