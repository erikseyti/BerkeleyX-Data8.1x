{
 "cells": [
  {
   "cell_type": "code",
   "execution_count": 2,
   "metadata": {},
   "outputs": [],
   "source": [
    "from datascience import *\n",
    "import numpy as np\n",
    "%matplotlib inline\n",
    "import matplotlib.pyplot as plots\n",
    "plots.style.use('fivethirtyeight')"
   ]
  },
  {
   "cell_type": "code",
   "execution_count": 6,
   "metadata": {},
   "outputs": [
    {
     "data": {
      "text/html": [
       "<table border=\"1\" class=\"dataframe\">\n",
       "    <thead>\n",
       "        <tr>\n",
       "            <th>Petals</th> <th>Name</th> <th>Color</th>\n",
       "        </tr>\n",
       "    </thead>\n",
       "    <tbody>\n",
       "        <tr>\n",
       "            <td>8     </td> <td>lotus    </td> <td>pink  </td>\n",
       "        </tr>\n",
       "        <tr>\n",
       "            <td>34    </td> <td>sunflower</td> <td>yellow</td>\n",
       "        </tr>\n",
       "        <tr>\n",
       "            <td>5     </td> <td>rose     </td> <td>red   </td>\n",
       "        </tr>\n",
       "    </tbody>\n",
       "</table>"
      ],
      "text/plain": [
       "Petals | Name      | Color\n",
       "8      | lotus     | pink\n",
       "34     | sunflower | yellow\n",
       "5      | rose      | red"
      ]
     },
     "execution_count": 6,
     "metadata": {},
     "output_type": "execute_result"
    }
   ],
   "source": [
    "flowers=Table.read_table(\"flowers.csv\")\n",
    "flowers"
   ]
  },
  {
   "cell_type": "code",
   "execution_count": 7,
   "metadata": {},
   "outputs": [],
   "source": [
    "country = [\"USA\", \"Netherlands\", \"Brazil\"]"
   ]
  },
  {
   "cell_type": "code",
   "execution_count": 8,
   "metadata": {},
   "outputs": [
    {
     "data": {
      "text/html": [
       "<table border=\"1\" class=\"dataframe\">\n",
       "    <thead>\n",
       "        <tr>\n",
       "            <th>Petals</th> <th>Name</th> <th>Color</th> <th>Country</th>\n",
       "        </tr>\n",
       "    </thead>\n",
       "    <tbody>\n",
       "        <tr>\n",
       "            <td>8     </td> <td>lotus    </td> <td>pink  </td> <td>USA        </td>\n",
       "        </tr>\n",
       "        <tr>\n",
       "            <td>34    </td> <td>sunflower</td> <td>yellow</td> <td>Netherlands</td>\n",
       "        </tr>\n",
       "        <tr>\n",
       "            <td>5     </td> <td>rose     </td> <td>red   </td> <td>Brazil     </td>\n",
       "        </tr>\n",
       "    </tbody>\n",
       "</table>"
      ],
      "text/plain": [
       "Petals | Name      | Color  | Country\n",
       "8      | lotus     | pink   | USA\n",
       "34     | sunflower | yellow | Netherlands\n",
       "5      | rose      | red    | Brazil"
      ]
     },
     "execution_count": 8,
     "metadata": {},
     "output_type": "execute_result"
    }
   ],
   "source": [
    "flowers =flowers.with_column(\"Country\", country)\n",
    "flowers"
   ]
  },
  {
   "cell_type": "code",
   "execution_count": 13,
   "metadata": {},
   "outputs": [
    {
     "data": {
      "text/plain": [
       "array([ 8, 34,  5])"
      ]
     },
     "execution_count": 13,
     "metadata": {},
     "output_type": "execute_result"
    }
   ],
   "source": [
    "petalas = flowers.column(\"Petals\")\n",
    "petalas"
   ]
  },
  {
   "cell_type": "code",
   "execution_count": 47,
   "metadata": {},
   "outputs": [
    {
     "data": {
      "text/html": [
       "<table border=\"1\" class=\"dataframe\">\n",
       "    <thead>\n",
       "        <tr>\n",
       "            <th>Petals</th> <th>Name</th> <th>Color</th> <th>Country</th>\n",
       "        </tr>\n",
       "    </thead>\n",
       "    <tbody>\n",
       "        <tr>\n",
       "            <td>8     </td> <td>lotus    </td> <td>pink  </td> <td>USA        </td>\n",
       "        </tr>\n",
       "        <tr>\n",
       "            <td>34    </td> <td>sunflower</td> <td>yellow</td> <td>Netherlands</td>\n",
       "        </tr>\n",
       "        <tr>\n",
       "            <td>5     </td> <td>rose     </td> <td>red   </td> <td>Brazil     </td>\n",
       "        </tr>\n",
       "    </tbody>\n",
       "</table>"
      ],
      "text/plain": [
       "Petals | Name      | Color  | Country\n",
       "8      | lotus     | pink   | USA\n",
       "34     | sunflower | yellow | Netherlands\n",
       "5      | rose      | red    | Brazil"
      ]
     },
     "execution_count": 47,
     "metadata": {},
     "output_type": "execute_result"
    }
   ],
   "source": [
    "flowers"
   ]
  },
  {
   "cell_type": "code",
   "execution_count": 22,
   "metadata": {},
   "outputs": [
    {
     "data": {
      "text/plain": [
       "3"
      ]
     },
     "execution_count": 22,
     "metadata": {},
     "output_type": "execute_result"
    }
   ],
   "source": [
    "flowers.num_rows"
   ]
  },
  {
   "cell_type": "code",
   "execution_count": 23,
   "metadata": {},
   "outputs": [
    {
     "data": {
      "text/plain": [
       "4"
      ]
     },
     "execution_count": 23,
     "metadata": {},
     "output_type": "execute_result"
    }
   ],
   "source": [
    "flowers.num_columns"
   ]
  },
  {
   "cell_type": "code",
   "execution_count": 25,
   "metadata": {},
   "outputs": [
    {
     "data": {
      "text/html": [
       "<table border=\"1\" class=\"dataframe\">\n",
       "    <thead>\n",
       "        <tr>\n",
       "            <th>Petals</th> <th>Color</th>\n",
       "        </tr>\n",
       "    </thead>\n",
       "    <tbody>\n",
       "        <tr>\n",
       "            <td>8     </td> <td>pink  </td>\n",
       "        </tr>\n",
       "        <tr>\n",
       "            <td>34    </td> <td>yellow</td>\n",
       "        </tr>\n",
       "        <tr>\n",
       "            <td>5     </td> <td>red   </td>\n",
       "        </tr>\n",
       "    </tbody>\n",
       "</table>"
      ],
      "text/plain": [
       "Petals | Color\n",
       "8      | pink\n",
       "34     | yellow\n",
       "5      | red"
      ]
     },
     "execution_count": 25,
     "metadata": {},
     "output_type": "execute_result"
    }
   ],
   "source": [
    "flowers.select(\"Petals\",\"Color\")"
   ]
  },
  {
   "cell_type": "code",
   "execution_count": 27,
   "metadata": {},
   "outputs": [
    {
     "data": {
      "text/html": [
       "<table border=\"1\" class=\"dataframe\">\n",
       "    <thead>\n",
       "        <tr>\n",
       "            <th>Petals</th> <th>Name</th>\n",
       "        </tr>\n",
       "    </thead>\n",
       "    <tbody>\n",
       "        <tr>\n",
       "            <td>8     </td> <td>lotus    </td>\n",
       "        </tr>\n",
       "        <tr>\n",
       "            <td>34    </td> <td>sunflower</td>\n",
       "        </tr>\n",
       "        <tr>\n",
       "            <td>5     </td> <td>rose     </td>\n",
       "        </tr>\n",
       "    </tbody>\n",
       "</table>"
      ],
      "text/plain": [
       "Petals | Name\n",
       "8      | lotus\n",
       "34     | sunflower\n",
       "5      | rose"
      ]
     },
     "execution_count": 27,
     "metadata": {},
     "output_type": "execute_result"
    }
   ],
   "source": [
    "flowers.drop(\"Country\",\"Color\")"
   ]
  },
  {
   "cell_type": "code",
   "execution_count": 9,
   "metadata": {},
   "outputs": [
    {
     "data": {
      "text/plain": [
       "array([1, 2, 4])"
      ]
     },
     "execution_count": 9,
     "metadata": {},
     "output_type": "execute_result"
    }
   ],
   "source": [
    "year = make_array(1,2,4)\n",
    "year"
   ]
  },
  {
   "cell_type": "code",
   "execution_count": 10,
   "metadata": {},
   "outputs": [],
   "source": [
    "flowers = flowers.with_column(\"Year\", year)"
   ]
  },
  {
   "cell_type": "code",
   "execution_count": 32,
   "metadata": {},
   "outputs": [
    {
     "data": {
      "text/plain": [
       "34"
      ]
     },
     "execution_count": 32,
     "metadata": {},
     "output_type": "execute_result"
    }
   ],
   "source": [
    "# encontrar a flor com mais petalas\n",
    "petalas = flowers.column(\"Petals\")\n",
    "max(petalas)"
   ]
  },
  {
   "cell_type": "code",
   "execution_count": 33,
   "metadata": {},
   "outputs": [
    {
     "data": {
      "text/plain": [
       "34"
      ]
     },
     "execution_count": 33,
     "metadata": {},
     "output_type": "execute_result"
    }
   ],
   "source": [
    "flowers.column(\"Petals\").max()"
   ]
  },
  {
   "cell_type": "code",
   "execution_count": 34,
   "metadata": {},
   "outputs": [
    {
     "data": {
      "text/plain": [
       "34"
      ]
     },
     "execution_count": 34,
     "metadata": {},
     "output_type": "execute_result"
    }
   ],
   "source": [
    "max(flowers.column(\"Petals\"))"
   ]
  },
  {
   "cell_type": "code",
   "execution_count": 18,
   "metadata": {},
   "outputs": [
    {
     "data": {
      "text/plain": [
       "[56, 'Petunia da Mata', 'azul', 'Brazil', 3]"
      ]
     },
     "execution_count": 18,
     "metadata": {},
     "output_type": "execute_result"
    }
   ],
   "source": [
    "petunia_da_mata = [56,\"Petunia da Mata\",\"azul\",\"Brazil\",3]\n",
    "petunia_da_mata"
   ]
  },
  {
   "cell_type": "code",
   "execution_count": 19,
   "metadata": {},
   "outputs": [
    {
     "data": {
      "text/html": [
       "<table border=\"1\" class=\"dataframe\">\n",
       "    <thead>\n",
       "        <tr>\n",
       "            <th>Petals</th> <th>Name</th> <th>Color</th> <th>Country</th> <th>Year</th>\n",
       "        </tr>\n",
       "    </thead>\n",
       "    <tbody>\n",
       "        <tr>\n",
       "            <td>8     </td> <td>lotus          </td> <td>pink  </td> <td>USA        </td> <td>1   </td>\n",
       "        </tr>\n",
       "        <tr>\n",
       "            <td>34    </td> <td>sunflower      </td> <td>yellow</td> <td>Netherlands</td> <td>2   </td>\n",
       "        </tr>\n",
       "        <tr>\n",
       "            <td>5     </td> <td>rose           </td> <td>red   </td> <td>Brazil     </td> <td>4   </td>\n",
       "        </tr>\n",
       "        <tr>\n",
       "            <td>56    </td> <td>Petunia da Mata</td> <td>azul  </td> <td>Brazil     </td> <td>3   </td>\n",
       "        </tr>\n",
       "        <tr>\n",
       "            <td>56    </td> <td>Petunia da Mata</td> <td>azul  </td> <td>Brazil     </td> <td>3   </td>\n",
       "        </tr>\n",
       "    </tbody>\n",
       "</table>"
      ],
      "text/plain": [
       "Petals | Name            | Color  | Country     | Year\n",
       "8      | lotus           | pink   | USA         | 1\n",
       "34     | sunflower       | yellow | Netherlands | 2\n",
       "5      | rose            | red    | Brazil      | 4\n",
       "56     | Petunia da Mata | azul   | Brazil      | 3\n",
       "56     | Petunia da Mata | azul   | Brazil      | 3"
      ]
     },
     "execution_count": 19,
     "metadata": {},
     "output_type": "execute_result"
    }
   ],
   "source": [
    "flowers = flowers.with_row(petunia_da_mata)\n",
    "flowers"
   ]
  },
  {
   "cell_type": "code",
   "execution_count": 26,
   "metadata": {},
   "outputs": [
    {
     "data": {
      "text/html": [
       "<table border=\"1\" class=\"dataframe\">\n",
       "    <thead>\n",
       "        <tr>\n",
       "            <th>Petals</th> <th>Name</th> <th>Color</th> <th>Country</th> <th>Year</th>\n",
       "        </tr>\n",
       "    </thead>\n",
       "    <tbody>\n",
       "        <tr>\n",
       "            <td>8     </td> <td>lotus          </td> <td>pink  </td> <td>USA        </td> <td>1   </td>\n",
       "        </tr>\n",
       "        <tr>\n",
       "            <td>34    </td> <td>sunflower      </td> <td>yellow</td> <td>Netherlands</td> <td>2   </td>\n",
       "        </tr>\n",
       "        <tr>\n",
       "            <td>5     </td> <td>rose           </td> <td>red   </td> <td>Brazil     </td> <td>4   </td>\n",
       "        </tr>\n",
       "        <tr>\n",
       "            <td>56    </td> <td>Petunia da Mata</td> <td>azul  </td> <td>Brazil     </td> <td>3   </td>\n",
       "        </tr>\n",
       "        <tr>\n",
       "            <td>56    </td> <td>Petunia da Mata</td> <td>azul  </td> <td>Brazil     </td> <td>3   </td>\n",
       "        </tr>\n",
       "    </tbody>\n",
       "</table>"
      ],
      "text/plain": [
       "Petals | Name            | Color  | Country     | Year\n",
       "8      | lotus           | pink   | USA         | 1\n",
       "34     | sunflower       | yellow | Netherlands | 2\n",
       "5      | rose            | red    | Brazil      | 4\n",
       "56     | Petunia da Mata | azul   | Brazil      | 3\n",
       "56     | Petunia da Mata | azul   | Brazil      | 3"
      ]
     },
     "execution_count": 26,
     "metadata": {},
     "output_type": "execute_result"
    }
   ],
   "source": [
    "flowers"
   ]
  },
  {
   "cell_type": "code",
   "execution_count": 14,
   "metadata": {},
   "outputs": [
    {
     "data": {
      "text/plain": [
       "('Petals', 'Name', 'Color', 'Country', 'Year')"
      ]
     },
     "execution_count": 14,
     "metadata": {},
     "output_type": "execute_result"
    }
   ],
   "source": [
    "flowers.labels"
   ]
  },
  {
   "cell_type": "code",
   "execution_count": 16,
   "metadata": {},
   "outputs": [
    {
     "data": {
      "text/plain": [
       "'8'"
      ]
     },
     "execution_count": 16,
     "metadata": {},
     "output_type": "execute_result"
    }
   ],
   "source": [
    "# extrai o primeiro valor da coluna Petals na tabela\n",
    "flowers.column(\"Petals\").item(0)"
   ]
  },
  {
   "cell_type": "code",
   "execution_count": 17,
   "metadata": {},
   "outputs": [
    {
     "data": {
      "text/plain": [
       "Row(Petals='8', Name='lotus', Color='pink', Country='USA', Year='1')"
      ]
     },
     "execution_count": 17,
     "metadata": {},
     "output_type": "execute_result"
    }
   ],
   "source": [
    "# extrai os dados do primeiro registro da tabela\n",
    "flowers.row(0)"
   ]
  },
  {
   "cell_type": "code",
   "execution_count": 20,
   "metadata": {},
   "outputs": [
    {
     "data": {
      "text/html": [
       "<table border=\"1\" class=\"dataframe\">\n",
       "    <thead>\n",
       "        <tr>\n",
       "            <th>Petals</th> <th>Name</th> <th>Color</th> <th>Country</th> <th>Year</th>\n",
       "        </tr>\n",
       "    </thead>\n",
       "    <tbody>\n",
       "        <tr>\n",
       "            <td>8     </td> <td>lotus</td> <td>pink </td> <td>USA    </td> <td>1   </td>\n",
       "        </tr>\n",
       "        <tr>\n",
       "            <td>5     </td> <td>rose </td> <td>red  </td> <td>Brazil </td> <td>4   </td>\n",
       "        </tr>\n",
       "    </tbody>\n",
       "</table>"
      ],
      "text/plain": [
       "Petals | Name  | Color | Country | Year\n",
       "8      | lotus | pink  | USA     | 1\n",
       "5      | rose  | red   | Brazil  | 4"
      ]
     },
     "execution_count": 20,
     "metadata": {},
     "output_type": "execute_result"
    }
   ],
   "source": [
    "# extrai o primeiro e terceiro registro da tabela, em forma de tabela\n",
    "flowers.take(0,2)"
   ]
  },
  {
   "cell_type": "code",
   "execution_count": 24,
   "metadata": {},
   "outputs": [
    {
     "data": {
      "text/plain": [
       "array([0, 1, 2, 3])"
      ]
     },
     "execution_count": 24,
     "metadata": {},
     "output_type": "execute_result"
    }
   ],
   "source": [
    "numero_registros = np.arange(0,4,1)\n",
    "numero_registros"
   ]
  },
  {
   "cell_type": "code",
   "execution_count": 25,
   "metadata": {},
   "outputs": [
    {
     "data": {
      "text/html": [
       "<table border=\"1\" class=\"dataframe\">\n",
       "    <thead>\n",
       "        <tr>\n",
       "            <th>Petals</th> <th>Name</th> <th>Color</th> <th>Country</th> <th>Year</th>\n",
       "        </tr>\n",
       "    </thead>\n",
       "    <tbody>\n",
       "        <tr>\n",
       "            <td>8     </td> <td>lotus          </td> <td>pink  </td> <td>USA        </td> <td>1   </td>\n",
       "        </tr>\n",
       "        <tr>\n",
       "            <td>34    </td> <td>sunflower      </td> <td>yellow</td> <td>Netherlands</td> <td>2   </td>\n",
       "        </tr>\n",
       "        <tr>\n",
       "            <td>5     </td> <td>rose           </td> <td>red   </td> <td>Brazil     </td> <td>4   </td>\n",
       "        </tr>\n",
       "        <tr>\n",
       "            <td>56    </td> <td>Petunia da Mata</td> <td>azul  </td> <td>Brazil     </td> <td>3   </td>\n",
       "        </tr>\n",
       "    </tbody>\n",
       "</table>"
      ],
      "text/plain": [
       "Petals | Name            | Color  | Country     | Year\n",
       "8      | lotus           | pink   | USA         | 1\n",
       "34     | sunflower       | yellow | Netherlands | 2\n",
       "5      | rose            | red    | Brazil      | 4\n",
       "56     | Petunia da Mata | azul   | Brazil      | 3"
      ]
     },
     "execution_count": 25,
     "metadata": {},
     "output_type": "execute_result"
    }
   ],
   "source": [
    "flowers.take(numero_registros)"
   ]
  },
  {
   "cell_type": "code",
   "execution_count": 27,
   "metadata": {},
   "outputs": [
    {
     "name": "stdout",
     "output_type": "stream",
     "text": [
      "[0 1 2 3]\n",
      "<class 'numpy.ndarray'>\n",
      "[0, 1, 2, 3]\n",
      "<class 'list'>\n"
     ]
    }
   ],
   "source": [
    "numero_registros\n",
    "print(numero_registros)\n",
    "print(type(numero_registros))\n",
    "\n",
    "numero_registros = numero_registros.tolist()\n",
    "print(numero_registros)\n",
    "print(type(numero_registros))"
   ]
  },
  {
   "cell_type": "code",
   "execution_count": 30,
   "metadata": {},
   "outputs": [
    {
     "data": {
      "text/plain": [
       "[0, 1, 2, 3]"
      ]
     },
     "execution_count": 30,
     "metadata": {},
     "output_type": "execute_result"
    }
   ],
   "source": [
    "lista_numpy = np.arange(0,4).tolist()\n",
    "lista_numpy"
   ]
  },
  {
   "cell_type": "code",
   "execution_count": 32,
   "metadata": {},
   "outputs": [
    {
     "data": {
      "text/html": [
       "<table border=\"1\" class=\"dataframe\">\n",
       "    <thead>\n",
       "        <tr>\n",
       "            <th>Petals</th> <th>Name</th> <th>Color</th> <th>Country (Origin)</th> <th>Year</th>\n",
       "        </tr>\n",
       "    </thead>\n",
       "    <tbody>\n",
       "        <tr>\n",
       "            <td>8     </td> <td>lotus          </td> <td>pink  </td> <td>USA             </td> <td>1   </td>\n",
       "        </tr>\n",
       "        <tr>\n",
       "            <td>34    </td> <td>sunflower      </td> <td>yellow</td> <td>Netherlands     </td> <td>2   </td>\n",
       "        </tr>\n",
       "        <tr>\n",
       "            <td>5     </td> <td>rose           </td> <td>red   </td> <td>Brazil          </td> <td>4   </td>\n",
       "        </tr>\n",
       "        <tr>\n",
       "            <td>56    </td> <td>Petunia da Mata</td> <td>azul  </td> <td>Brazil          </td> <td>3   </td>\n",
       "        </tr>\n",
       "        <tr>\n",
       "            <td>56    </td> <td>Petunia da Mata</td> <td>azul  </td> <td>Brazil          </td> <td>3   </td>\n",
       "        </tr>\n",
       "    </tbody>\n",
       "</table>"
      ],
      "text/plain": [
       "Petals | Name            | Color  | Country (Origin) | Year\n",
       "8      | lotus           | pink   | USA              | 1\n",
       "34     | sunflower       | yellow | Netherlands      | 2\n",
       "5      | rose            | red    | Brazil           | 4\n",
       "56     | Petunia da Mata | azul   | Brazil           | 3\n",
       "56     | Petunia da Mata | azul   | Brazil           | 3"
      ]
     },
     "execution_count": 32,
     "metadata": {},
     "output_type": "execute_result"
    }
   ],
   "source": [
    "flowers = flowers.relabeled(\"Country\", \"Country (Origin)\")\n",
    "flowers"
   ]
  },
  {
   "cell_type": "code",
   "execution_count": null,
   "metadata": {},
   "outputs": [],
   "source": []
  }
 ],
 "metadata": {
  "kernelspec": {
   "display_name": "Python 3",
   "language": "python",
   "name": "python3"
  },
  "language_info": {
   "codemirror_mode": {
    "name": "ipython",
    "version": 3
   },
   "file_extension": ".py",
   "mimetype": "text/x-python",
   "name": "python",
   "nbconvert_exporter": "python",
   "pygments_lexer": "ipython3",
   "version": "3.7.6"
  }
 },
 "nbformat": 4,
 "nbformat_minor": 4
}
